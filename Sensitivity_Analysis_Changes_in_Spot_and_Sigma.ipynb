{
  "nbformat": 4,
  "nbformat_minor": 0,
  "metadata": {
    "colab": {
      "provenance": [],
      "collapsed_sections": [
        "zMsijvbiPjv9",
        "s3Y1VHz1Po-j",
        "KUZkxbXdRIyO",
        "wkHhyLMpRL8A",
        "TxhDw72NO92-"
      ],
      "toc_visible": true
    },
    "kernelspec": {
      "name": "python3",
      "display_name": "Python 3"
    },
    "language_info": {
      "name": "python"
    }
  },
  "cells": [
    {
      "cell_type": "markdown",
      "source": [
        "#Overview\n",
        "\n",
        "In this script, we will look at the sensitivity of an option with regards to how the theoretical value changes when one variable is modified while keeping all other variables constant. \n",
        "\n",
        "In most experiments, we will plot the theoretical value on the y-axis. But rather than plotting the theoretical value itself, we will be using edge value instead (cost minus market price; from option buyer’s perspective, positive is favorable). Reason for this choice is because in many instances, options that are near-the-money tend to have higher market prices compared to theoretical value. I want to find the x-intercepts for visualizing these options, the logical reason for this is in the next paragraph. \n",
        "\n",
        "It’s not common to find mispriced options to Buy. In response to this phenomenon, I asked and imagined “what if the current spot price could magically rise or drop to a favorable value, if keeping all variables constant, then at what spot price(s) will I be indifferent to buying/selling the option(s)?” To approach this question, I’m deciding to plot the *Theoretical edge value v. Spot price*. The zero-intercepts on the x-axis tells us about the theoretically indifferent spot price. For a position that has multiple x-intercepts (as we will see below, for a straddle), it tells us about the theoretical break even intervals.\n"
      ],
      "metadata": {
        "id": "V-1v_ZX_ezf9"
      }
    },
    {
      "cell_type": "markdown",
      "source": [
        "# Implementations (can skip to Application section) \n",
        "\n"
      ],
      "metadata": {
        "id": "5udN_X6G6D6U"
      }
    },
    {
      "cell_type": "code",
      "source": [
        "!pip install yahoo_fin\n",
        "from yahoo_fin import options\n",
        "\n",
        "!pip install yfinance\n",
        "import yfinance as yf\n",
        "\n",
        "import time\n",
        "import pandas as pd\n",
        "from scipy.stats import norm\n",
        "\n",
        "import math\n",
        "from datetime import date"
      ],
      "metadata": {
        "id": "z1k7xS3DV7kV"
      },
      "execution_count": null,
      "outputs": []
    },
    {
      "cell_type": "markdown",
      "source": [
        "#### class BSM():"
      ],
      "metadata": {
        "id": "zMsijvbiPjv9"
      }
    },
    {
      "cell_type": "code",
      "source": [
        "class BSM:\n",
        "  \n",
        "  def __init__(self, x, s,t,r,sigma):\n",
        "    self.d1, self.d2 = None, None\n",
        "    self.tv_call, self.delta_call , self.gamma_call, self.vega_call, self.theta_call, self.rho_call = None, None, None, None, None, None\n",
        "    self.tv_put, self.delta_put, self.gamma_put, self.vega_put, self.theta_put, self.rho_put = None, None, None, None, None, None\n",
        "\n",
        "    self.x = x\n",
        "    self.s = s\n",
        "    self.t = t\n",
        "    self.r = r\n",
        "    self.sigma = sigma\n",
        "    self.calc()\n",
        "\n",
        "  def calc(self):\n",
        "    ''' Calculates all the theoretical and Greeks values for call and put. \n",
        "        Need to call calc() whenever new input is provided. \n",
        "    '''\n",
        "    _a = math.log(self.s/ self.x)\n",
        "    _b = (self.r+self.sigma**2/2)*self.t\n",
        "    self.d1 = (_a+_b)/self.sigma*math.sqrt(self.t)\n",
        "    self.d2 = self.d1 - self.sigma * math.sqrt(self.t)\n",
        "    \n",
        "    # Call: \n",
        "    self.tv_call    = self.s * norm.cdf(self.d1) - self.x*math.exp(-self.r*self.t)*norm.cdf(self.d2)\n",
        "    self.delta_call = norm.cdf(self.d1)\n",
        "    self.gamma_call = norm.pdf(self.d1)/(self.s*self.sigma*math.sqrt(self.t))\n",
        "    self.vega_call  = 0.01*(self.s*norm.pdf(self.d1)*math.sqrt(self.t))\n",
        "    self.theta_call = 0.01*(-(self.s*norm.pdf(self.d1)*self.sigma)/(2*math.sqrt(self.t)) - self.r*self.x*math.exp(-self.r*self.t)*norm.cdf(self.d2))\n",
        "    self.rho_call   = 0.01*(self.x*self.t*math.exp(-self.r*self.t)*norm.cdf(self.d2))\n",
        "    \n",
        "    # Put: \n",
        "    self.tv_put    = self.x * math.exp(-self.r*self.t)-self.s+self.tv_call\n",
        "    self.delta_put = -norm.cdf(-self.d1)\n",
        "    self.gamma_put = norm.pdf(self.d1)/(self.s*self.sigma*math.sqrt(self.t))\n",
        "    self.vega_put  = 0.01*(self.s*norm.pdf(self.d1)*math.sqrt(self.t))\n",
        "    self.theta_put = 0.01*(-(self.s*norm.pdf(self.d1)*self.sigma)/(2*math.sqrt(self.t)) + self.r*self.x*math.exp(-self.r*self.t)*norm.cdf(-self.d2))\n",
        "    self.rho_put   = 0.01*(-self.x*self.t*math.exp(-self.r*self.t)*norm.cdf(-self.d2))\n",
        "\n"
      ],
      "metadata": {
        "id": "H-OZtfUNWLav"
      },
      "execution_count": 2,
      "outputs": []
    },
    {
      "cell_type": "markdown",
      "source": [
        "#### class contract():"
      ],
      "metadata": {
        "id": "s3Y1VHz1Po-j"
      }
    },
    {
      "cell_type": "code",
      "source": [
        "class contract:\n",
        "\n",
        "  def __init__(self, expiry_date, strike, contracttype, quoted_price):\n",
        "    self.multiple = 100\n",
        "    self.strike = strike\n",
        "    self.contracttype=contracttype\n",
        "    self.expiry_date = expiry_date\n",
        "    self.price = quoted_price\n",
        "\n",
        "  def __str__(self):\n",
        "    return \"{}_{}_{} @{}\".format(self.expiry_date, self.strike, self.contracttype, self.price)"
      ],
      "metadata": {
        "id": "zxOXJfJKdcNK"
      },
      "execution_count": 3,
      "outputs": []
    },
    {
      "cell_type": "markdown",
      "source": [
        "#### class leg():"
      ],
      "metadata": {
        "id": "KUZkxbXdRIyO"
      }
    },
    {
      "cell_type": "code",
      "source": [
        "class leg:\n",
        "\n",
        "  def __init__(self, side, contract, size, date_today, s,r,sigma):\n",
        "    self.size=size\n",
        "    leg.size = size\n",
        "    self.side = side\n",
        "    t = (contract.expiry_date-date_today).days/365\n",
        "    self.contract = contract\n",
        "    self.model = BSM(contract.strike, s,t,r,sigma)\n",
        "\n",
        "    self.delta = None\n",
        "    self.rho = None\n",
        "    self.vega = None\n",
        "    self.theta = None   \n",
        "    self.gamma = None\n",
        "    self.edge = 0\n",
        "    self.premium = 0\n",
        "\n",
        "    # int _coefficient, has three purposes:\n",
        "    #   (1) +/-ve Delta for long call/put, but it's reversed from seller's perspective  \n",
        "    #   (2) If buyer of contract:   +ve vega, -ve theta, +ve gamma\n",
        "    #   (3) If seller of contract:  -ve vega, +ve theta, -ve gamma\n",
        "    _coefficient = None\n",
        "    if self.side == \"long\":\n",
        "      _coefficient = 1\n",
        "    elif self.side == \"short\":\n",
        "      _coefficient = -1\n",
        "    \n",
        "    if contract.contracttype==\"call\":\n",
        "      if self.side == \"long\":\n",
        "        self.edge = (self.model.tv_call-self.contract.price) * size \n",
        "      elif self.side == \"short\":\n",
        "        self.edge = (self.contract.price-self.model.tv_call) * size \n",
        "      self.delta = self.model.delta_call * size  * _coefficient\n",
        "      self.rho = self.model.rho_call * size      * _coefficient\n",
        "      self.vega = self.model.vega_call * size    * _coefficient\n",
        "      self.gamma = self.model.gamma_call * size  * _coefficient\n",
        "      self.theta = self.model.theta_call * size  * _coefficient\n",
        "    \n",
        "    elif contract.contracttype==\"put\":\n",
        "      if self.side == \"long\":\n",
        "        self.edge = (self.model.tv_put-self.contract.price) * size \n",
        "      elif self.side == \"short\":\n",
        "        self.edge = (self.contract.price-self.model.tv_put) * size \n",
        "      self.delta = self.model.delta_put * size   * _coefficient\n",
        "      self.rho = self.model.rho_put * size       * _coefficient\n",
        "      self.vega = self.model.vega_put * size     * _coefficient\n",
        "      self.gamma = self.model.gamma_put * size   * _coefficient\n",
        "      self.theta = self.model.theta_put * size   * _coefficient\n",
        "    \n",
        "    self.premium = contract.price * size * -_coefficient\n",
        "\n",
        "  def __str__(self):\n",
        "    n_round= 4 \n",
        "    return \"{} [x{}]: Δ={},𝚪={},Θ={},V={},⍴={}\".format(str(self.contract),self.size, \\\n",
        "      self.delta.round(n_round),self.gamma.round(n_round),self.theta.round(n_round),self.vega.round(n_round),self.rho.round(n_round))\n"
      ],
      "metadata": {
        "id": "OmvAd0IkdHKf"
      },
      "execution_count": 4,
      "outputs": []
    },
    {
      "cell_type": "markdown",
      "source": [
        "### class position():"
      ],
      "metadata": {
        "id": "wkHhyLMpRL8A"
      }
    },
    {
      "cell_type": "code",
      "source": [
        "class position:\n",
        "\n",
        "  def __init__(self):\n",
        "    self.list_leg = []\n",
        "    \n",
        "    self.total_delta = 0\n",
        "    self.total_gamma = 0\n",
        "    self.total_vega = 0\n",
        "    self.total_theta = 0\n",
        "    self.total_rho = 0\n",
        "    self.total_premium = 0\n",
        "    self.total_th_edge = 0\n",
        "\n",
        "  def get_summary(self, rounding=4) -> dict:\n",
        "    ''' Returns dict of {string:float}\n",
        "    '''\n",
        "    return {\"Total delta\" : round(self.total_delta,rounding),\n",
        "            \"Total gamma\" : round(self.total_gamma,rounding),\n",
        "            \"Total vega\"  : round(self.total_vega,rounding),\n",
        "            \"Total theta\" : round(self.total_theta,rounding),\n",
        "            \"Total rho\"   :round(self.total_rho,rounding),\n",
        "            \"Premium (paid)/received\" : round(self.total_premium,rounding),\n",
        "            \"Th. Edge\"    : round(self.total_th_edge,rounding),\n",
        "            }\n",
        "  \n",
        "  def add_leg(self, leg):\n",
        "    ''' @param leg\n",
        "    '''\n",
        "    size = leg.size\n",
        "    self.total_premium += leg.premium\n",
        "    self.total_th_edge += leg.edge\n",
        "    self.list_leg.append(leg)\n",
        "    \n",
        "    self.total_delta += leg.delta\n",
        "    self.total_gamma += leg.gamma\n",
        "    self.total_vega += leg.vega\n",
        "    self.total_theta += leg.theta\n",
        "    self.total_rho += leg.rho \n"
      ],
      "metadata": {
        "id": "Ls5kJ-UieSIC"
      },
      "execution_count": 5,
      "outputs": []
    },
    {
      "cell_type": "markdown",
      "source": [
        "### Other Methods :\n",
        "\n",
        "Including code blocks for processing data"
      ],
      "metadata": {
        "id": "TxhDw72NO92-"
      }
    },
    {
      "cell_type": "code",
      "source": [
        "def populate_dict(yf_chain, contracttype):\n",
        "  ''' @param Object yf_chain : from options.get_options_chain(symbol, date_expire_str)[\"calls\" or \"puts\"]\n",
        "      @param string contracttype : either \"call\" or \"put\n",
        "      Returns a dict of {float strike price : contract object}\n",
        "  '''\n",
        "  out = {}\n",
        "  for i in range(len(yf_chain)):\n",
        "    x = yf_chain[\"Strike\"][i]\n",
        "    out[x] = contract(date_expire, x, contracttype, yf_chain[\"Last Price\"][i])\n",
        "  return out\n"
      ],
      "metadata": {
        "id": "Tyr65k6owsGT"
      },
      "execution_count": 6,
      "outputs": []
    },
    {
      "cell_type": "markdown",
      "source": [
        "###Plotting sensitivity"
      ],
      "metadata": {
        "id": "QfxrHrmgkS-A"
      }
    },
    {
      "cell_type": "markdown",
      "source": [
        "Theoretical value vs Spot"
      ],
      "metadata": {
        "id": "HygBw043mPv6"
      }
    },
    {
      "cell_type": "code",
      "source": [
        "def sensit_edge_v_spot(initial_spot, step_spot, step_range_multiplier):\n",
        "  ''' @param float initial_spot\n",
        "      @param float step_spot, in absolute amount\n",
        "      @param float step_range_multiplier, ie. range(-10,10) of step $1 means +/-$10\n",
        "  '''\n",
        "  list_x, list_y = [], []\n",
        "  list_zerocross = []\n",
        "  __tmp = None\n",
        "\n",
        "  for i in step_range_multiplier:\n",
        "    _spot = crnt_price-i*step_spot\n",
        "\n",
        "    tmp_pos = position() \n",
        "    for e in pos.list_leg:\n",
        "      _leg = leg(side=e.side, contract=e.contract, size=e.size, date_today=date_today, s=_spot, r=riskfree_rate, sigma=sigma)\n",
        "      tmp_pos.add_leg(_leg)\n",
        "    \n",
        "    list_x.append(_spot)\n",
        "    _edge = tmp_pos.total_th_edge \n",
        "    if __tmp is not None and ((_edge > 0 and __tmp < 0) or (_edge < 0 and __tmp > 0)):\n",
        "      list_zerocross.append(_spot.round(2))\n",
        "    list_y.append(_edge)\n",
        "    __tmp = _edge\n",
        "\n",
        "  pd.DataFrame({ \"Spot\":list_x, \"Theoretical edge\":list_y} ).plot(x=\"Spot\", y=\"Theoretical edge\" )\n",
        "  list.sort(list_zerocross)\n",
        "  print(\"Theoretical edge exists when price of underlying\\n asset is out of price interval \" + str(tuple(list_zerocross)) )"
      ],
      "metadata": {
        "id": "9k_dqLXykXS1"
      },
      "execution_count": 38,
      "outputs": []
    },
    {
      "cell_type": "markdown",
      "source": [
        "Theoretical value vs Sigma"
      ],
      "metadata": {
        "id": "UWuCPZ7kmRXV"
      }
    },
    {
      "cell_type": "code",
      "source": [
        "def sensit_edge_v_sigma(initial_spot, initial_sigma, step_sigma, step_range_multiplier, clip=True):\n",
        "  ''' @param float initial_spot\n",
        "      @param float initial_sigma\n",
        "      @param float step_sigma, in absolute amount\n",
        "      @param float step_range_multiplier \n",
        "      @param bool clip, to clip off negative values\n",
        "  '''\n",
        "  list_x, list_y = [], []\n",
        "  list_zerocross = []\n",
        "  __tmp = None\n",
        "\n",
        "  for i in step_range_multiplier:\n",
        "    _sigma = sigma + i*step_sigma\n",
        "    tmp_pos = position() \n",
        "\n",
        "    tmp_pos = position() \n",
        "    for e in pos.list_leg:\n",
        "      _leg = leg(side=e.side, contract=e.contract, size=e.size, date_today=date_today, s=initial_spot, r=riskfree_rate, sigma=_sigma)\n",
        "      tmp_pos.add_leg(_leg)\n",
        "\n",
        "    _edge = tmp_pos.total_th_edge\n",
        "    list_x.append(_sigma)\n",
        "    if __tmp is not None and ((_edge > 0 and __tmp < 0) or (_edge < 0 and __tmp > 0)):\n",
        "      list_zerocross.append(_sigma)\n",
        "    __tmp = _edge\n",
        "    list_y.append(_edge)\n",
        "\n",
        "  df = pd.DataFrame({ \"Sigma\":list_x, \"Theoretical Edge\":list_y } )\n",
        "  if clip:\n",
        "    df = df[df[\"Theoretical Edge\"]>0] \n",
        "  print(\"X-intercepts (sigma): \" + str(list_zerocross))\n",
        "  df.plot(x=\"Sigma\", y=\"Theoretical Edge\");"
      ],
      "metadata": {
        "id": "jWkdNqmvmM6V"
      },
      "execution_count": 30,
      "outputs": []
    },
    {
      "cell_type": "markdown",
      "source": [
        "Delta vs Spot"
      ],
      "metadata": {
        "id": "s_RRQc-xoeyU"
      }
    },
    {
      "cell_type": "code",
      "source": [
        "def sensit_delta_v_spot(initial_spot, step_spot, step_range_multiplier):\n",
        "  ''' @param float initial_spot\n",
        "      @param float step_spot, in absolute amount\n",
        "      @param float step_range_multiplier \n",
        "      @param bool clip, to clip off negative values\n",
        "  '''\n",
        "  list_x, list_y = [], []\n",
        "\n",
        "  for i in step_range_multiplier:\n",
        "    _spot = crnt_price + i*step_spot\n",
        "    tmp_pos = position() \n",
        "\n",
        "    tmp_pos = position() \n",
        "    for e in pos.list_leg:\n",
        "      _leg = leg(side=e.side, contract=e.contract, size=e.size, date_today=date_today, s=_spot, r=riskfree_rate, sigma=sigma)\n",
        "      tmp_pos.add_leg(_leg)\n",
        "\n",
        "    list_x.append(_spot)\n",
        "    list_y.append(tmp_pos.total_delta)\n",
        "\n",
        "  df = pd.DataFrame({ \"Spot\":list_x, \"Delta\":list_y } ) \n",
        "  df.plot(x=\"Spot\", y=\"Delta\");"
      ],
      "metadata": {
        "id": "lEJ80NLpoe73"
      },
      "execution_count": 9,
      "outputs": []
    },
    {
      "cell_type": "markdown",
      "source": [
        "#Application: "
      ],
      "metadata": {
        "id": "fPVJRQo5Bw7G"
      }
    },
    {
      "cell_type": "code",
      "source": [
        "# 😎 Manual inputs:\n",
        "symbol                   = \"KO\" \n",
        "sigma                    = 0.14 \n",
        "riskfree_rate            = math.e**(.0393)-1\n",
        "date_today               = date(2023,2,28) \n",
        "date_expire              = date(2023,3,17)\n",
        "\n",
        "# Obtaining the recent close and confirming expiration date (above) is valid\n",
        "data = yf.Ticker(symbol).history()\n",
        "crnt_price = data['Close'].iloc[-1] \n",
        "date_expire_str = date_expire.strftime(\"%B %d, %Y\") \n",
        "assert date_expire_str in options.get_expiration_dates(symbol) \n",
        "calls = populate_dict(options.get_options_chain(symbol, date_expire_str)[\"calls\"], \"call\")\n",
        "puts = populate_dict(options.get_options_chain(symbol, date_expire_str)[\"puts\"], \"put\")\n",
        "\n",
        "# 😎 Manual inputs:\n",
        "# Example: Buying a straddle\n",
        "legs = (\\\n",
        "        leg(side=\"long\", contract=calls[60], size=1, date_today=date_today, s=crnt_price, r=riskfree_rate, sigma=sigma),\n",
        "        leg(side=\"long\", contract=puts[60], size=1, date_today=date_today, s=crnt_price, r=riskfree_rate, sigma=sigma)\\\n",
        "        )\n",
        "\n",
        "pos = position()\n",
        "for e in legs:\n",
        "  pos.add_leg(e)\n",
        "\n"
      ],
      "metadata": {
        "id": "klJssmtNhePh"
      },
      "execution_count": 10,
      "outputs": []
    },
    {
      "cell_type": "markdown",
      "source": [
        "#Sensitivity Analysis "
      ],
      "metadata": {
        "id": "Le3KFmM8LbIX"
      }
    },
    {
      "cell_type": "code",
      "source": [
        "\"Current price of \" + symbol + \": \" + str(crnt_price.round(2))"
      ],
      "metadata": {
        "colab": {
          "base_uri": "https://localhost:8080/",
          "height": 35
        },
        "id": "WWeG6wXwwuNu",
        "outputId": "9ea9d8c8-4fe6-4e1f-c4c6-b97d827fa30b"
      },
      "execution_count": 21,
      "outputs": [
        {
          "output_type": "execute_result",
          "data": {
            "text/plain": [
              "'Current price of KO: 59.51'"
            ],
            "application/vnd.google.colaboratory.intrinsic+json": {
              "type": "string"
            }
          },
          "metadata": {},
          "execution_count": 21
        }
      ]
    },
    {
      "cell_type": "markdown",
      "source": [
        "###Option's value v. Spot price"
      ],
      "metadata": {
        "id": "Fds6erQuHhwm"
      }
    },
    {
      "cell_type": "code",
      "source": [
        "sensit_edge_v_spot(crnt_price, step_spot=0.25, step_range_multiplier=range(-20,20))"
      ],
      "metadata": {
        "colab": {
          "base_uri": "https://localhost:8080/",
          "height": 314
        },
        "id": "jpPgWGJYILT5",
        "outputId": "7c08942d-d836-4f53-e178-cad94001c7b6"
      },
      "execution_count": 39,
      "outputs": [
        {
          "output_type": "stream",
          "name": "stdout",
          "text": [
            "Theoretical edge exists when price of underlying\n",
            " asset is out of price interval (55.26, 64.26)\n"
          ]
        },
        {
          "output_type": "display_data",
          "data": {
            "text/plain": [
              "<Figure size 432x288 with 1 Axes>"
            ],
            "image/png": "[encoded data removed]"
          },
          "metadata": {
            "needs_background": "light"
          }
        }
      ]
    },
    {
      "cell_type": "markdown",
      "source": [
        "**Observations:** Ideally, if the price is outside of interval (x1, x2) as printed above, keeping all other variables constant, then there will be an edge for this position. However, these areas are very far away when considering both historical volatility (using EWMA estimator on Daily, t=252) and IV to be low, only around 14%. \n",
        "\n",
        "The premiums paid for near-the-money options expiring in mid-March for KO is rather expensive, I would rather sell calls and puts instead of buying them. Of course, as Seller, I can be wrong about implied volatility. If IV makes a violent spike upwards, then I’m in trouble (assuming I take no other actions to hedge my downsides). \n",
        "\n",
        "**Next question:** By how much volatility should IV spike towards in order for Buyers to benefit, but on the flip side for Sellers to suffer? \n",
        "\n",
        "To answer this question, we will look at: *Option's value v. Sigma*\n",
        "\n",
        "\n"
      ],
      "metadata": {
        "id": "9q15R5gxhn1z"
      }
    },
    {
      "cell_type": "markdown",
      "source": [
        "###Option's value v. Sigma (when near-the-money)"
      ],
      "metadata": {
        "id": "FFotgOBAHnzL"
      }
    },
    {
      "cell_type": "code",
      "source": [
        "sensit_edge_v_sigma(crnt_price, sigma, step_sigma=0.01, step_range_multiplier=range(-10,50))"
      ],
      "metadata": {
        "colab": {
          "base_uri": "https://localhost:8080/",
          "height": 296
        },
        "id": "PcYPFm9KLjcI",
        "outputId": "1a872d53-8107-4c03-8dc1-0cc54744b189"
      },
      "execution_count": 31,
      "outputs": [
        {
          "output_type": "stream",
          "name": "stdout",
          "text": [
            "X-intercepts (sigma): [0.18000000000000002]\n"
          ]
        },
        {
          "output_type": "display_data",
          "data": {
            "text/plain": [
              "<Figure size 432x288 with 1 Axes>"
            ],
            "image/png": "[encoded data removed]"
          },
          "metadata": {
            "needs_background": "light"
          }
        }
      ]
    },
    {
      "cell_type": "markdown",
      "source": [
        "Based on this plot:\n",
        "\n",
        "> **Interpretation #1:** As Buyer of the straddle, we want volatility to increase to around 0.18. If all other variables are constant, then our Long straddle will begin to have a theoretical edge. \n",
        "\n",
        "> **Interpretation #2:** As Seller of the straddle, being on the opposite side, we want volatility to sit still. When the options expire out of the money, we as the seller won't get assigned to fulfilling the terms of the contracts, premiums previously received become crystalized profits. For this to happen, it's best to see volatility being as low as possible. If implied volatility increases to 0.18, then it is a red flag. "
      ],
      "metadata": {
        "id": "HnLquF3q-wAM"
      }
    },
    {
      "cell_type": "markdown",
      "source": [
        "###Option's value v. Sigma when deeply ITM\n",
        "\n",
        "As seen in the previous example, when strike price is near-the-money, the curve (Theoretical value based on f(Sigma)) is very close to being a straight line. However, the curvature becomes more evident when the option is deeply in/out of the money. \n",
        "\n",
        "To illustrate the point, suppose price tanks by 50% (=crnt_price/2). \n",
        "\n",
        "**Buyer's perspective** As buyer of straddle who already owns the position prior to the imaginery 50%-drop, the best case scenario is for volatility to stay low until expiration when the 60 put becomes exercisable."
      ],
      "metadata": {
        "id": "XyV7OGvgJM4P"
      }
    },
    {
      "cell_type": "code",
      "source": [
        "sensit_edge_v_sigma(crnt_price/2, sigma, step_sigma=0.01, step_range_multiplier=range(-10,50))"
      ],
      "metadata": {
        "colab": {
          "base_uri": "https://localhost:8080/",
          "height": 296
        },
        "id": "c0IJfBxyI7jO",
        "outputId": "b447bfb4-a2ab-410a-d0c3-442b88fe5d9f"
      },
      "execution_count": 32,
      "outputs": [
        {
          "output_type": "stream",
          "name": "stdout",
          "text": [
            "X-intercepts (sigma): []\n"
          ]
        },
        {
          "output_type": "display_data",
          "data": {
            "text/plain": [
              "<Figure size 432x288 with 1 Axes>"
            ],
            "image/png": "[encoded data removed]"
          },
          "metadata": {
            "needs_background": "light"
          }
        }
      ]
    },
    {
      "cell_type": "markdown",
      "source": [
        "###Delta v. Spot price\n",
        "\n",
        "In a perfect world, a straddle is delta neutral when both calls and puts are at-the-money and have Deltas of +/- 50s (+/- 50s cancel out). \n",
        "\n",
        "We know this can't happen because market conditions are always changing. Even in theory, we can see that deltas of calls and puts at the same strike price do not completely cancel out. This brings the questions: \"Should be remain delta neutral when price goes up and down by a dollar?\"\n",
        "\n",
        "Let's answer this with a plot.\n",
        "\n",
        "\n"
      ],
      "metadata": {
        "id": "1VMZgI2GMpE1"
      }
    },
    {
      "cell_type": "code",
      "source": [
        "sensit_delta_v_spot(crnt_price, step_spot=.01, step_range_multiplier=range(-100,100))"
      ],
      "metadata": {
        "colab": {
          "base_uri": "https://localhost:8080/",
          "height": 279
        },
        "id": "vb7hAZY7M1r6",
        "outputId": "9e4e6577-87b1-4bf6-a054-a489a83f97ee"
      },
      "execution_count": 37,
      "outputs": [
        {
          "output_type": "display_data",
          "data": {
            "text/plain": [
              "<Figure size 432x288 with 1 Axes>"
            ],
            "image/png": "[encoded data removed]"
          },
          "metadata": {
            "needs_background": "light"
          }
        }
      ]
    },
    {
      "cell_type": "markdown",
      "source": [
        ">**Interpretation about this plot:** As spot prices make a steady move below/above 60 strike (Using the word \"steady\" because we are holding sigma and vega constant) we get exposed to a little bit of delta. \n",
        "\n",
        "For a dollar-drop, our delta becomes negative 0.03, so we will need to buy 3 underlying shares to remain delta neutral; the opposite is to short 1 share when there is a $1 increase in price. \n",
        "\n",
        "It is impractical to make delta neutral adjustments repeatedly until maturity to maintain delta neutrality. For every minor adjustment made, it does not affect PL much, but transaction costs to execute these orders, and also time costs to monitor these adjustments outweigh potential gains.\n",
        "\n",
        "Practical responses to seeing Delta changing with respect Spot: (A) decide on a frequency to make delta neutral adjustments, or (B) Don’t adjust it, accept some directional risks, have a threshold for amount of +/- deltas as part of overall risk parameters for a portfolio of options. \n",
        "\n",
        "\n",
        "\n",
        "\n",
        "\n"
      ],
      "metadata": {
        "id": "GeIRYB1tOwDV"
      }
    }
  ]
}