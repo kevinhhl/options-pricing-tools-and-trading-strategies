{
  "nbformat": 4,
  "nbformat_minor": 0,
  "metadata": {
    "colab": {
      "provenance": [],
      "collapsed_sections": [
        "5udN_X6G6D6U",
        "zMsijvbiPjv9",
        "s3Y1VHz1Po-j",
        "KUZkxbXdRIyO",
        "wkHhyLMpRL8A"
      ]
    },
    "kernelspec": {
      "name": "python3",
      "display_name": "Python 3"
    },
    "language_info": {
      "name": "python"
    }
  },
  "cells": [
    {
      "cell_type": "code",
      "source": [
        "import math\n",
        "from datetime import date\n",
        "\n",
        "# 😎 Manual inputs:\n",
        "symbol                   = \"KO\" \n",
        "sigma                    = 0.14 \n",
        "riskfree_rate            = math.e**(.0395)-1\n",
        "date_today               = date(2023,2,28) \n",
        "date_expire              = date(2023,3,17) "
      ],
      "metadata": {
        "id": "CAnrVfErv0GB"
      },
      "execution_count": 1,
      "outputs": []
    },
    {
      "cell_type": "markdown",
      "source": [
        "# Implementation\n",
        "\n",
        "Developed in the previous notebook [BSM Part 2](https://github.com/kevinhhl/options-pricing-tools-and-trading-strategies/blob/main/Black_Scholes_Merton_Model_Part2_Position_Analysis.ipynb):\n",
        "\n",
        "| Hierarchy & name of datatype | Description |\n",
        "|--|--|\n",
        "| Level 1: Contract| A datatype to store data points attributed to an individual option (ie. maturity date, strike price, call/put).  |\n",
        "| Level 2: Leg | A data structure that stores (1) a single Contract (2) an instance of a BSM, and (3) the outputs from BSM|\n",
        "| Level 3: Position | A collection of multiple Legs |\n",
        "\n",
        "\n",
        "\n"
      ],
      "metadata": {
        "id": "5udN_X6G6D6U"
      }
    },
    {
      "cell_type": "code",
      "source": [
        "!pip install yahoo_fin\n",
        "from yahoo_fin import options\n",
        "\n",
        "!pip install yfinance\n",
        "import yfinance as yf\n",
        "\n",
        "import time\n",
        "import pandas as pd\n",
        "from scipy.stats import norm"
      ],
      "metadata": {
        "id": "z1k7xS3DV7kV"
      },
      "execution_count": null,
      "outputs": []
    },
    {
      "cell_type": "markdown",
      "source": [
        "#### class BSM():"
      ],
      "metadata": {
        "id": "zMsijvbiPjv9"
      }
    },
    {
      "cell_type": "code",
      "source": [
        "class BSM:\n",
        "  \n",
        "  def __init__(self, x, s,t,r,sigma):\n",
        "    self.d1, self.d2 = None, None\n",
        "    self.tv_call, self.delta_call , self.gamma_call, self.vega_call, self.theta_call, self.rho_call = None, None, None, None, None, None\n",
        "    self.tv_put, self.delta_put, self.gamma_put, self.vega_put, self.theta_put, self.rho_put = None, None, None, None, None, None\n",
        "\n",
        "    self.x = x\n",
        "    self.s = s\n",
        "    self.t = t\n",
        "    self.r = r\n",
        "    self.sigma = sigma\n",
        "    self.calc()\n",
        "\n",
        "  def calc(self):\n",
        "    ''' Calculates all the theoretical and Greeks values for call and put. \n",
        "        Need to call calc() whenever new input is provided. \n",
        "    '''\n",
        "    _a = math.log(self.s/ self.x)\n",
        "    _b = (self.r+self.sigma**2/2)*self.t\n",
        "    self.d1 = (_a+_b)/self.sigma*math.sqrt(self.t)\n",
        "    self.d2 = self.d1 - self.sigma * math.sqrt(self.t)\n",
        "    \n",
        "    # Call: \n",
        "    self.tv_call    = self.s * norm.cdf(self.d1) - self.x*math.exp(-self.r*self.t)*norm.cdf(self.d2)\n",
        "    self.delta_call = norm.cdf(self.d1)\n",
        "    self.gamma_call = norm.pdf(self.d1)/(self.s*self.sigma*math.sqrt(self.t))\n",
        "    self.vega_call  = 0.01*(self.s*norm.pdf(self.d1)*math.sqrt(self.t))\n",
        "    self.theta_call = 0.01*(-(self.s*norm.pdf(self.d1)*self.sigma)/(2*math.sqrt(self.t)) - self.r*self.x*math.exp(-self.r*self.t)*norm.cdf(self.d2))\n",
        "    self.rho_call   = 0.01*(self.x*self.t*math.exp(-self.r*self.t)*norm.cdf(self.d2))\n",
        "    \n",
        "    # Put: \n",
        "    self.tv_put    = self.x * math.exp(-self.r*self.t)-self.s+self.tv_call\n",
        "    self.delta_put = -norm.cdf(-self.d1)\n",
        "    self.gamma_put = norm.pdf(self.d1)/(self.s*self.sigma*math.sqrt(self.t))\n",
        "    self.vega_put  = 0.01*(self.s*norm.pdf(self.d1)*math.sqrt(self.t))\n",
        "    self.theta_put = 0.01*(-(self.s*norm.pdf(self.d1)*self.sigma)/(2*math.sqrt(self.t)) + self.r*self.x*math.exp(-self.r*self.t)*norm.cdf(-self.d2))\n",
        "    self.rho_put   = 0.01*(-self.x*self.t*math.exp(-self.r*self.t)*norm.cdf(-self.d2))\n",
        "\n"
      ],
      "metadata": {
        "id": "H-OZtfUNWLav"
      },
      "execution_count": 3,
      "outputs": []
    },
    {
      "cell_type": "markdown",
      "source": [
        "#### class contract():"
      ],
      "metadata": {
        "id": "s3Y1VHz1Po-j"
      }
    },
    {
      "cell_type": "code",
      "source": [
        "class contract:\n",
        "\n",
        "  def __init__(self, expiry_date, strike, contracttype, quoted_price):\n",
        "    self.multiple = 100\n",
        "    self.strike = strike\n",
        "    self.contracttype=contracttype\n",
        "    self.expiry_date = expiry_date\n",
        "    self.price = quoted_price\n",
        "\n",
        "  def __str__(self):\n",
        "    return \"{}_{}_{} @{}\".format(self.expiry_date, self.strike, self.contracttype, self.price)"
      ],
      "metadata": {
        "id": "zxOXJfJKdcNK"
      },
      "execution_count": 4,
      "outputs": []
    },
    {
      "cell_type": "markdown",
      "source": [
        "#### class leg():"
      ],
      "metadata": {
        "id": "KUZkxbXdRIyO"
      }
    },
    {
      "cell_type": "code",
      "source": [
        "class leg:\n",
        "\n",
        "  def __init__(self, side, contract, size, date_today, s,r,sigma):\n",
        "    self.size=size\n",
        "    leg.size = size\n",
        "    self.side = side\n",
        "    t = (contract.expiry_date-date_today).days/365\n",
        "    self.contract = contract\n",
        "    self.model = BSM(contract.strike, s,t,r,sigma)\n",
        "\n",
        "    self.delta = None\n",
        "    self.rho = None\n",
        "    self.vega = None\n",
        "    self.theta = None   \n",
        "    self.gamma = None\n",
        "    self.edge = 0\n",
        "    self.premium = 0\n",
        "\n",
        "    # int _coefficient, has three purposes:\n",
        "    #   (1) +/-ve Delta for long call/put, but it's reversed from seller's perspective  \n",
        "    #   (2) If buyer of contract:   +ve vega, -ve theta, +ve gamma\n",
        "    #   (3) If seller of contract:  -ve vega, +ve theta, -ve gamma\n",
        "    _coefficient = None\n",
        "    if self.side == \"long\":\n",
        "      _coefficient = 1\n",
        "    elif self.side == \"short\":\n",
        "      _coefficient = -1\n",
        "    \n",
        "    if contract.contracttype==\"call\":\n",
        "      if self.side == \"long\":\n",
        "        self.edge = (self.model.tv_call-self.contract.price) * size \n",
        "      elif self.side == \"short\":\n",
        "        self.edge = (self.contract.price-self.model.tv_call) * size \n",
        "      self.delta = self.model.delta_call * size  * _coefficient\n",
        "      self.rho = self.model.rho_call * size      * _coefficient\n",
        "      self.vega = self.model.vega_call * size    * _coefficient\n",
        "      self.gamma = self.model.gamma_call * size  * _coefficient\n",
        "      self.theta = self.model.theta_call * size  * _coefficient\n",
        "    \n",
        "    elif contract.contracttype==\"put\":\n",
        "      if self.side == \"long\":\n",
        "        self.edge = (self.model.tv_put-self.contract.price) * size \n",
        "      elif self.side == \"short\":\n",
        "        self.edge = (self.contract.price-self.model.tv_put) * size \n",
        "      self.delta = self.model.delta_put * size   * _coefficient\n",
        "      self.rho = self.model.rho_put * size       * _coefficient\n",
        "      self.vega = self.model.vega_put * size     * _coefficient\n",
        "      self.gamma = self.model.gamma_put * size   * _coefficient\n",
        "      self.theta = self.model.theta_put * size   * _coefficient\n",
        "    \n",
        "    self.premium = contract.price * size * -_coefficient\n",
        "\n",
        "  def __str__(self):\n",
        "    n_round= 4 \n",
        "    return \"{} [x{}]: Δ={},𝚪={},Θ={},V={},⍴={}\".format(str(self.contract),self.size, \\\n",
        "      self.delta.round(n_round),self.gamma.round(n_round),self.theta.round(n_round),self.vega.round(n_round),self.rho.round(n_round))\n"
      ],
      "metadata": {
        "id": "OmvAd0IkdHKf"
      },
      "execution_count": 5,
      "outputs": []
    },
    {
      "cell_type": "markdown",
      "source": [
        "### class position():"
      ],
      "metadata": {
        "id": "wkHhyLMpRL8A"
      }
    },
    {
      "cell_type": "code",
      "source": [
        "class position:\n",
        "\n",
        "  def __init__(self):\n",
        "    self.list_leg = []\n",
        "    \n",
        "    self.total_delta = 0\n",
        "    self.total_gamma = 0\n",
        "    self.total_vega = 0\n",
        "    self.total_theta = 0\n",
        "    self.total_rho = 0\n",
        "    self.total_premium = 0\n",
        "    self.total_th_edge = 0\n",
        "\n",
        "  def get_summary(self, rounding=4) -> dict:\n",
        "    ''' Returns dict of {string:float}\n",
        "    '''\n",
        "    return {\"Total delta\" : round(self.total_delta,rounding),\n",
        "            \"Total gamma\" : round(self.total_gamma,rounding),\n",
        "            \"Total vega\"  : round(self.total_vega,rounding),\n",
        "            \"Total theta\" : round(self.total_theta,rounding),\n",
        "            \"Total rho\"   :round(self.total_rho,rounding),\n",
        "            \"Premium (paid)/received\" : round(self.total_premium,rounding),\n",
        "            \"Th. Edge\"    : round(self.total_th_edge,rounding),\n",
        "            }\n",
        "  \n",
        "  def add_leg(self, leg):\n",
        "    ''' @param leg\n",
        "    '''\n",
        "    size = leg.size\n",
        "    self.total_premium += leg.premium\n",
        "    self.total_th_edge += leg.edge\n",
        "    self.list_leg.append(leg)\n",
        "    \n",
        "    self.total_delta += leg.delta\n",
        "    self.total_gamma += leg.gamma\n",
        "    self.total_vega += leg.vega\n",
        "    self.total_theta += leg.theta\n",
        "    self.total_rho += leg.rho \n"
      ],
      "metadata": {
        "id": "Ls5kJ-UieSIC"
      },
      "execution_count": 6,
      "outputs": []
    },
    {
      "cell_type": "markdown",
      "source": [
        "### Other Methods :\n",
        "\n",
        "Including code blocks for processing data"
      ],
      "metadata": {
        "id": "TxhDw72NO92-"
      }
    },
    {
      "cell_type": "code",
      "source": [
        "def populate_dict(yf_chain, contracttype):\n",
        "  ''' @param Object yf_chain : from options.get_options_chain(symbol, date_expire_str)[\"calls\" or \"puts\"]\n",
        "      @param string contracttype : either \"call\" or \"put\n",
        "      Returns a dict of {float strike price : contract object}\n",
        "  '''\n",
        "  out = {}\n",
        "  for i in range(len(yf_chain)):\n",
        "    x = yf_chain[\"Strike\"][i]\n",
        "    out[x] = contract(date_expire, x, contracttype, yf_chain[\"Last Price\"][i])\n",
        "  return out\n"
      ],
      "metadata": {
        "id": "Tyr65k6owsGT"
      },
      "execution_count": 7,
      "outputs": []
    },
    {
      "cell_type": "code",
      "source": [
        "ttm = (date_expire-date_today).days/365\n",
        "\n",
        "# Confirming that the expiration date is valid.\n",
        "exp_dates = options.get_expiration_dates(symbol)\n",
        "date_expire_str = date_expire.strftime(\"%B %d, %Y\") \n",
        "assert date_expire_str in exp_dates \n",
        "\n",
        "# Obtaining the recent close priceticker_yahoo = yf.Ticker(symbol)\n",
        "ticker_yahoo = yf.Ticker(symbol)\n",
        "data = ticker_yahoo.history()\n",
        "crnt_price = data['Close'].iloc[-1]\n",
        "crnt_price.round(2)\n",
        "original_chain_call = options.get_options_chain(symbol, date_expire_str)[\"calls\"]\n",
        "original_chain_put = options.get_options_chain(symbol, date_expire_str)[\"puts\"]\n",
        "\n",
        "calls = populate_dict(original_chain_call, \"call\")\n",
        "puts = populate_dict(original_chain_put, \"put\")"
      ],
      "metadata": {
        "id": "Uhtg_8lb4ycq"
      },
      "execution_count": 8,
      "outputs": []
    },
    {
      "cell_type": "markdown",
      "source": [
        "#Application: "
      ],
      "metadata": {
        "id": "fPVJRQo5Bw7G"
      }
    },
    {
      "cell_type": "code",
      "source": [
        "pos = position()\n",
        "# 😎 Manual inputs:\n",
        "# Example: Buying a straddle\n",
        "leg1 = leg(side=\"long\", contract=populate_dict(original_chain_call, \"call\")[60], size=1, date_today=date_today, s=crnt_price, r=riskfree_rate, sigma=sigma)\n",
        "leg2 = leg(side=\"long\", contract=puts[60], size=1, date_today=date_today, s=crnt_price, r=riskfree_rate, sigma=sigma)\n",
        "pos.add_leg(leg1)\n",
        "pos.add_leg(leg2)\n",
        "\n"
      ],
      "metadata": {
        "id": "klJssmtNhePh"
      },
      "execution_count": 9,
      "outputs": []
    },
    {
      "cell_type": "markdown",
      "source": [
        "#Sensitivity Analysis "
      ],
      "metadata": {
        "id": "Le3KFmM8LbIX"
      }
    },
    {
      "cell_type": "markdown",
      "source": [
        "###Option's value v. Spot price"
      ],
      "metadata": {
        "id": "Fds6erQuHhwm"
      }
    },
    {
      "cell_type": "code",
      "source": [
        "step_spot = crnt_price*.01\n",
        "list_x, list_y = [], []\n",
        "list_zerocross = []\n",
        "__tmp = None\n",
        "\n",
        "for i in range(-20,20):\n",
        "  _spot = crnt_price-i*step_spot\n",
        "\n",
        "  tmp_pos = position() \n",
        "  for e in pos.list_leg:\n",
        "    _leg = leg(side=e.side, contract=e.contract, size=e.size, date_today=date_today, s=_spot, r=riskfree_rate, sigma=sigma)\n",
        "    tmp_pos.add_leg(_leg)\n",
        "  \n",
        "  list_x.append(_spot)\n",
        "  _edge = tmp_pos.total_th_edge \n",
        "  if __tmp is not None and ((_edge > 0 and __tmp < 0) or (_edge < 0 and __tmp > 0)):\n",
        "    list_zerocross.append(_spot.round(2))\n",
        "  list_y.append(_edge)\n",
        "  __tmp = _edge\n",
        "\n",
        "pd.DataFrame({ \"Spot\":list_x, \"Theoretical edge\":list_y} ).plot(x=\"Spot\", y=\"Theoretical edge\" )\n",
        "list.sort(list_zerocross)\n",
        "print(\"Theoretical edge exists when price of underlying\\n asset is out of price interval \" + str(tuple(list_zerocross)) )"
      ],
      "metadata": {
        "colab": {
          "base_uri": "https://localhost:8080/",
          "height": 315
        },
        "id": "jpPgWGJYILT5",
        "outputId": "a81c16dd-8928-455a-b8fc-9c6911a444eb"
      },
      "execution_count": 10,
      "outputs": [
        {
          "output_type": "stream",
          "name": "stdout",
          "text": [
            "Theoretical edge exists when price of underlying\n",
            " asset is out of price interval (55.63, 64.01)\n"
          ]
        },
        {
          "output_type": "display_data",
          "data": {
            "text/plain": [
              "<Figure size 432x288 with 1 Axes>"
            ],
            "image/png": "[encoded data removed]"
          },
          "metadata": {
            "needs_background": "light"
          }
        }
      ]
    },
    {
      "cell_type": "markdown",
      "source": [
        "###Option's value v. Sigma when ATM"
      ],
      "metadata": {
        "id": "FFotgOBAHnzL"
      }
    },
    {
      "cell_type": "code",
      "source": [
        "step_sigma = .01\n",
        "list_x, list_y = [], []\n",
        "\n",
        "for i in range(-10,50):\n",
        "  _sigma = sigma + i*step_sigma\n",
        "  tmp_pos = position() \n",
        "\n",
        "  tmp_pos = position() \n",
        "  for e in pos.list_leg:\n",
        "    _leg = leg(side=e.side, contract=e.contract, size=e.size, date_today=date_today, s=crnt_price, r=riskfree_rate, sigma=_sigma)\n",
        "    tmp_pos.add_leg(_leg)\n",
        "\n",
        "  list_x.append(_sigma)\n",
        "  list_y.append(tmp_pos.total_th_edge)\n",
        "\n",
        "df = pd.DataFrame({ \"Sigma\":list_x, \"Theoretical Edge\":list_y } )\n",
        "df = df[df[\"Theoretical Edge\"]>0] \n",
        "df.plot(x=\"Sigma\", y=\"Theoretical Edge\");"
      ],
      "metadata": {
        "colab": {
          "base_uri": "https://localhost:8080/",
          "height": 279
        },
        "id": "PcYPFm9KLjcI",
        "outputId": "7ca5f1ee-2a1a-401c-c45c-721f05982a83"
      },
      "execution_count": 11,
      "outputs": [
        {
          "output_type": "display_data",
          "data": {
            "text/plain": [
              "<Figure size 432x288 with 1 Axes>"
            ],
            "image/png": "[encoded data removed]"
          },
          "metadata": {
            "needs_background": "light"
          }
        }
      ]
    },
    {
      "cell_type": "markdown",
      "source": [
        "Based on this plot:\n",
        "\n",
        "> **Interpretation #1:** As Buyer of the straddle, we want volatility to increase to around 0.2. If all other variables are constant, then our Long straddle will begin to have a theoretical edge. \n",
        "\n",
        "> **Interpretation #2:** As Seller of the straddle, being on the opposite side, we want volatility to sit still. When the options expire out of the money, we as the seller won't get assigned to fulfilling the terms of the contracts, premiums previously received become crystalized profits. For this to happen, it's best to see volatility being as low as possible. If implied volatility increases to 0.2, then it is a red flag from the seller's perspective. "
      ],
      "metadata": {
        "id": "HnLquF3q-wAM"
      }
    },
    {
      "cell_type": "markdown",
      "source": [
        "###Option's value v. Sigma when deeply ITM\n",
        "\n",
        "As seen in the previous example, when strike price is near-the-money, the curve (Theoretical value based on f(Sigma)) is very close to being a straight line. However, the curvature becomes more evident when the option is deeply in/out of the money. \n",
        "\n",
        "To illustrate the point, suppose price tanks by 50%. As buyer of straddle who already owns the position, the best case scenario is for volatility to stay low until expiration when the 60 put becomes exercisable."
      ],
      "metadata": {
        "id": "XyV7OGvgJM4P"
      }
    },
    {
      "cell_type": "code",
      "source": [
        "step_sigma = .01\n",
        "list_x, list_y = [], []\n",
        "\n",
        "for i in range(-10,50):\n",
        "  _sigma = sigma + i*step_sigma\n",
        "  tmp_pos = position() \n",
        "\n",
        "  tmp_pos = position() \n",
        "  for e in pos.list_leg:\n",
        "    _leg = leg(side=e.side, contract=e.contract, size=e.size, date_today=date_today, s=crnt_price/2, r=riskfree_rate, sigma=_sigma)\n",
        "    tmp_pos.add_leg(_leg)\n",
        "\n",
        "  list_x.append(_sigma)\n",
        "  list_y.append(tmp_pos.total_th_edge)\n",
        "\n",
        "df = pd.DataFrame({ \"Sigma\":list_x, \"Theoretical Edge\":list_y } )\n",
        "df = df[df[\"Theoretical Edge\"]>0] \n",
        "df.plot(x=\"Sigma\", y=\"Theoretical Edge\");"
      ],
      "metadata": {
        "colab": {
          "base_uri": "https://localhost:8080/",
          "height": 279
        },
        "id": "c0IJfBxyI7jO",
        "outputId": "796d26f0-5c69-4f1e-9c23-0f8f4052b208"
      },
      "execution_count": 12,
      "outputs": [
        {
          "output_type": "display_data",
          "data": {
            "text/plain": [
              "<Figure size 432x288 with 1 Axes>"
            ],
            "image/png": "[encoded data removed]"
          },
          "metadata": {
            "needs_background": "light"
          }
        }
      ]
    },
    {
      "cell_type": "markdown",
      "source": [
        "###Delta v. Spot price\n",
        "\n",
        "In a perfect world, a straddle is delta neutral when both calls and puts are at-the-money and have Deltas of +/- 50s (+/- 50s cancel out). "
      ],
      "metadata": {
        "id": "1VMZgI2GMpE1"
      }
    },
    {
      "cell_type": "code",
      "source": [
        "step_spot = 1\n",
        "list_x, list_y = [], []\n",
        "\n",
        "for i in range(-5,5):\n",
        "  _spot = crnt_price + i*step_spot\n",
        "  tmp_pos = position() \n",
        "\n",
        "  tmp_pos = position() \n",
        "  for e in pos.list_leg:\n",
        "    _leg = leg(side=e.side, contract=e.contract, size=e.size, date_today=date_today, s=_spot, r=riskfree_rate, sigma=_sigma)\n",
        "    tmp_pos.add_leg(_leg)\n",
        "\n",
        "  list_x.append(_spot)\n",
        "  list_y.append(tmp_pos.total_delta)\n",
        "\n",
        "df = pd.DataFrame({ \"Spot\":list_x, \"Delta\":list_y } ) \n",
        "df.plot(x=\"Spot\", y=\"Delta\");"
      ],
      "metadata": {
        "colab": {
          "base_uri": "https://localhost:8080/",
          "height": 279
        },
        "id": "vb7hAZY7M1r6",
        "outputId": "f849110d-64a3-42b3-e49a-3004108632a4"
      },
      "execution_count": 13,
      "outputs": [
        {
          "output_type": "display_data",
          "data": {
            "text/plain": [
              "<Figure size 432x288 with 1 Axes>"
            ],
            "image/png": "[encoded data removed]"
          },
          "metadata": {
            "needs_background": "light"
          }
        }
      ]
    },
    {
      "cell_type": "markdown",
      "source": [
        ">**Interpretations:** As spot prices make a steady move below/above 60 (Using the word \"steady\" because we are holding vega constant) we get exposed to delta, just a little bit of delta. \n",
        "\n",
        "Here, we see it is impractical to strive for Delta neutrality in this position. If price makes a steady rise by 5, or a steady fall by 5, then adjustments will be to buy/sell underlying 2 shares; PL effects will likely be inconsequential. \n",
        "\n",
        "In principle, it makes sense that the Delta of this position (a straddle) is not sensitive to price change. When calls and puts are ATM, their deltas are approx. +/- 50s, canceling out net delta. The plot tells us we are close enough to being delta neutral.\n"
      ],
      "metadata": {
        "id": "GeIRYB1tOwDV"
      }
    }
  ]
}