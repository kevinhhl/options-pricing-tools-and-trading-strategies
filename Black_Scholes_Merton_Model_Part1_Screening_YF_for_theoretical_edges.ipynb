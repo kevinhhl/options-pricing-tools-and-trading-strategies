{
  "nbformat": 4,
  "nbformat_minor": 0,
  "metadata": {
    "colab": {
      "provenance": [],
      "collapsed_sections": [
        "Eqh0EZxUT_HB"
      ],
      "toc_visible": true,
      "authorship_tag": "ABX9TyPkU+x0gu292HqfwtMCgtGj",
      "include_colab_link": true
    },
    "kernelspec": {
      "name": "python3",
      "display_name": "Python 3"
    },
    "language_info": {
      "name": "python"
    }
  },
  "cells": [
    {
      "cell_type": "markdown",
      "metadata": {
        "id": "view-in-github",
        "colab_type": "text"
      },
      "source": [
        "<a href=\"https://colab.research.google.com/github/kevinhhl/options-pricing-tools-and-trading-strategies/blob/main/Black_Scholes_Merton_Model_Part1_Screening_YF_for_theoretical_edges.ipynb\" target=\"_parent\"><img src=\"https://colab.research.google.com/assets/colab-badge.svg\" alt=\"Open In Colab\"/></a>"
      ]
    },
    {
      "cell_type": "markdown",
      "source": [
        "---\n",
        "### **Overview**\n",
        "\n",
        "\n",
        "**Black-Scholes-Merton Model (\"BSM\") - Part 1**\n",
        "<br>\n",
        "This script will allow us to obtain options data provided by Yahoo Finance, and then for each quoted contract, to compute the theoretical value of it by applying the BSM. The goal is to find the difference between each contract’s quoted price and its theoretical value to allow us to ask  further questions with regards to whether there will possibly be theoretical edges for trading those contracts with abnormal discrepancies.\n",
        "<br>\n",
        "\n",
        "**Disadvantages to BSM** are, such as, but not limited to:\n",
        "* Was modeled for European-style options; early-exercise is not allowed\n",
        "* Assumes price to follow a random walk according to a brownian motion with a constant drift. (I have created a separate notebook to explore this topic. [Link here.](https://github.com/kevinhhl/portfolio-management-tools/blob/main/Monte_Carlo_Simulation_Random_Walk.ipynb))\n",
        "* Ignores dividends\n",
        "* Inputs can be subjective, especially for expected volatility\n",
        "* Taxes and transaction costs are ignored\n",
        "\n",
        "<br>\n",
        "\n",
        "**Black-Scholes-Merton Model (“BSM”) - Part 2**\n",
        "<br>\n",
        "There will be another part to this project in \"Part 2\". Next time, position analysis will be the focus. We will find ways to present multi-legged spreads in table formats to summarize the common Greeks."
      ],
      "metadata": {
        "id": "HYqpla_xSoT5"
      }
    },
    {
      "cell_type": "markdown",
      "source": [
        "### **Imports:**"
      ],
      "metadata": {
        "id": "Eqh0EZxUT_HB"
      }
    },
    {
      "cell_type": "code",
      "source": [
        "!pip install yahoo_fin"
      ],
      "metadata": {
        "id": "e4wXm7jIRFYy"
      },
      "execution_count": null,
      "outputs": []
    },
    {
      "cell_type": "code",
      "source": [
        "import math\n",
        "from scipy.stats import norm\n",
        "import pandas as pd\n",
        "from pandas import DataFrame\n",
        "from yahoo_fin import options\n",
        "from datetime import date\n"
      ],
      "metadata": {
        "id": "z1k7xS3DV7kV"
      },
      "execution_count": null,
      "outputs": []
    },
    {
      "cell_type": "markdown",
      "source": [
        "### **Understanding the Model:**"
      ],
      "metadata": {
        "id": "BUWVCHR16qgL"
      }
    },
    {
      "cell_type": "markdown",
      "source": [
        "The derivation of the BSM is rather complex. Through research [1], I use my own words to summarize how I understand it from practical perspective.\n",
        "\n",
        "The premise of the Black-Scholes Model contains two components. It can be described as taking the difference of: <br>\n",
        "* (a) the expected value of a stock in the event that it reaches above/below exercise price on the date of expiration for call/put options, respectively, and \n",
        "* (b) the expected payout at the exercise price\n",
        "\n",
        ">* These components are expressed as:\n",
        "<br>\\begin{equation}\n",
        "TV_{call}=se^{rt}N(d_{1})-xN(d_{2})\n",
        "\\end{equation}\n",
        "<br>\\begin{equation}\n",
        "TV_{put}=xe^{-rt}N(-d_{2})-sN(-d_{1})\n",
        "\\end{equation}\n",
        "> \n",
        "> **Where**:\n",
        ">* TV is the theoretical value\n",
        "* s is the spot price at the current moment\n",
        "* x is the exercise price of the option\n",
        "* t is the time till maturity in no. of years\n",
        "* r is the risk free rate per annum\n",
        "* σ is the annualized volatility\n",
        "* N(d) is the CDF of a normal distribution.\n",
        "<br>\n",
        "<br>\\begin{equation}\n",
        "d_{1} =\\frac{ln(\\frac{S}{X})+(r+\\frac{\\sigma}{2}^2)t}{\\sigma\\sqrt{t}}\n",
        "\\end{equation}\n",
        "<br>\\begin{equation}\n",
        "d_{2}=d_{1}-\\sigma\\sqrt{t}\n",
        "\\end{equation}\n",
        "\n",
        "\n",
        "*Contemplative observations:*\n",
        "\n",
        "\n",
        "* The probability of price to be in-the-money for call/put options can be pictured as if seeing the data points '*d*' landing in the right/left sides of the CDF (for call/put options, respectively). \n",
        "* Probability of the put option to be in-the-money would be N(-d), which represents the left tail of the CDF; speaking of the area from negative-infinity to 0-d. The probability of a call option to be in-the-money would be 1-N(-d); being the right-tail of the CDF.\n",
        "* Price is not normally distributed. Instead, a lognormal distribution would better describe it. We still want to associate probability of price reaching X with the normal distribution, so we need to make the adjustments to *d*. Also, we will want to risk-adjust *d* according to *r*\n",
        "\n",
        "<br>\n",
        "\n",
        "---\n",
        "*References:*\n",
        "\n",
        "[1] Natenberg, Sheldon. <i>Chapter 18, Option Volatility and Pricing, Second Edition</i>. McGraw-Hill Edu., 2015.\n",
        "\n"
      ],
      "metadata": {
        "id": "1snfuosuUDQo"
      }
    },
    {
      "cell_type": "markdown",
      "source": [
        "### **Implementation:**"
      ],
      "metadata": {
        "id": "5udN_X6G6D6U"
      }
    },
    {
      "cell_type": "code",
      "source": [
        "class BSM:\n",
        "  \n",
        "  def __init__(self, s,t,r,sigma):\n",
        "    # Input(s) that are not set by constructor: \n",
        "    # self.x - changes as we loop through the options chain provided by Yahoo Finance\n",
        "\n",
        "    # inputs do not change:\n",
        "    self.s = s\n",
        "    self.t = t\n",
        "    self.r = r\n",
        "    self.sigma = sigma\n",
        "\n",
        "  def set_x(self, x):\n",
        "    self.x = x\n",
        "    self._recalc()\n",
        "\n",
        "  def _recalc(self):\n",
        "    # When input variable 'x' changes, will need to recalc\n",
        "    self.d1 = self._d1() \n",
        "    self.d2 = self.d1 - self.sigma * math.sqrt(self.t)\n",
        "    self.tv_call = self.s * norm.cdf(self.d1) - self.x*math.exp(-self.r*self.t)*norm.cdf(self.d2)\n",
        "    self.tv_put = self.x * math.exp(-self.r*self.t)-self.s+self.tv_call\n",
        "\n",
        "  def _d1(self):\n",
        "    a = math.log(self.s/ self.x)\n",
        "    b = (self.r+self.sigma**2/2)*self.t\n",
        "    return(a+b)/self.sigma*math.sqrt(self.t)\n"
      ],
      "metadata": {
        "id": "H-OZtfUNWLav"
      },
      "execution_count": null,
      "outputs": []
    },
    {
      "cell_type": "markdown",
      "source": [
        "---\n",
        "*Validations:*\n",
        "\n",
        "* Checking calculations with @YuChenAmberLu's version in [<link\\>](https://github.com/YuChenAmberLu/Options-Calculator)"
      ],
      "metadata": {
        "id": "PQ8ElXfM1PfJ"
      }
    },
    {
      "cell_type": "code",
      "source": [
        "# Validations with YuChenAmberLu's version:\n",
        "model = BSM(s=100,t=0.128767,r=0.2,sigma=0.2)\n",
        "model.set_x(100)\n",
        "assert (model.tv_call-4.112199).round(5)==0\n",
        "assert (model.tv_put-1.569736).round(5)==0"
      ],
      "metadata": {
        "id": "L1Uc3Tm5ha4i"
      },
      "execution_count": null,
      "outputs": []
    },
    {
      "cell_type": "markdown",
      "source": [
        "---\n",
        "### **Application:**\n",
        "> **Comparing with Yahoo Finance**\n",
        ">\n",
        "> The idea of this project is to loop through certain option chains in Yahoo and see if we can scan for options with theoretical edges. This notebook is a mere illustration of how it can be done, we will only calculate TSLA's calls that are near at-the-money. "
      ],
      "metadata": {
        "id": "d4K9cO8IsWuh"
      }
    },
    {
      "cell_type": "code",
      "source": [
        "ticker = \"TSLA\"\n",
        "exp_dates = options.get_expiration_dates(ticker)\n",
        "exp_dates"
      ],
      "metadata": {
        "colab": {
          "base_uri": "https://localhost:8080/"
        },
        "id": "Uhtg_8lb4ycq",
        "outputId": "67913e59-60cd-4318-92e9-20c487cbd609"
      },
      "execution_count": null,
      "outputs": [
        {
          "output_type": "execute_result",
          "data": {
            "text/plain": [
              "['February 17, 2023',\n",
              " 'February 24, 2023',\n",
              " 'March 3, 2023',\n",
              " 'March 10, 2023',\n",
              " 'March 17, 2023',\n",
              " 'March 24, 2023',\n",
              " 'March 31, 2023',\n",
              " 'April 21, 2023',\n",
              " 'May 19, 2023',\n",
              " 'June 16, 2023',\n",
              " 'July 21, 2023',\n",
              " 'September 15, 2023',\n",
              " 'December 15, 2023',\n",
              " 'January 19, 2024',\n",
              " 'March 15, 2024',\n",
              " 'June 21, 2024',\n",
              " 'September 20, 2024',\n",
              " 'January 17, 2025',\n",
              " 'June 20, 2025']"
            ]
          },
          "metadata": {},
          "execution_count": 5
        }
      ]
    },
    {
      "cell_type": "code",
      "source": [
        "expirdate = 'February 24, 2023'           # by confirming with options.get_expiration_dates(str)\n",
        "option_type = \"calls\"\n",
        "chain = options.get_options_chain(ticker, expirdate)[option_type]\n",
        "chain"
      ],
      "metadata": {
        "colab": {
          "base_uri": "https://localhost:8080/",
          "height": 659
        },
        "id": "C43lM_M74_Xy",
        "outputId": "2a5c02c7-18f0-4995-b970-64cc634a1b92"
      },
      "execution_count": null,
      "outputs": [
        {
          "output_type": "execute_result",
          "data": {
            "text/plain": [
              "           Contract Name         Last Trade Date  Strike  Last Price    Bid  \\\n",
              "0    TSLA230224C00015000   2023-02-15 3:40PM EST    15.0      197.85    0.0   \n",
              "1    TSLA230224C00020000  2023-01-17 11:09AM EST    20.0      108.18  192.4   \n",
              "2    TSLA230224C00025000   2023-01-18 9:34AM EST    25.0      111.18    0.0   \n",
              "3    TSLA230224C00030000   2023-01-18 9:42AM EST    30.0      104.87    0.0   \n",
              "4    TSLA230224C00055000   2023-02-06 9:36AM EST    55.0      141.75    0.0   \n",
              "..                   ...                     ...     ...         ...    ...   \n",
              "114  TSLA230224C00320000   2023-02-16 3:56PM EST   320.0        0.02    0.0   \n",
              "115  TSLA230224C00330000   2023-02-16 3:36PM EST   330.0        0.02    0.0   \n",
              "116  TSLA230224C00340000   2023-02-16 3:07PM EST   340.0        0.01    0.0   \n",
              "117  TSLA230224C00350000   2023-02-16 2:04PM EST   350.0        0.01    0.0   \n",
              "118  TSLA230224C00360000   2023-02-16 3:52PM EST   360.0        0.01    0.0   \n",
              "\n",
              "       Ask  Change % Change Volume  Open Interest Implied Volatility  \n",
              "0      0.0     0.0        -     50             24              0.00%  \n",
              "1    192.9     0.0        -      3              3          1,784.96%  \n",
              "2      0.0     0.0        -      3              0              0.00%  \n",
              "3      0.0     0.0        -      -              3              0.00%  \n",
              "4      0.0     0.0        -      1              3              0.00%  \n",
              "..     ...     ...      ...    ...            ...                ...  \n",
              "114    0.0     0.0        -    155           1616             50.00%  \n",
              "115    0.0     0.0        -    299           1145             50.00%  \n",
              "116    0.0     0.0        -     90           1481             50.00%  \n",
              "117    0.0     0.0        -     47           3018             50.00%  \n",
              "118    0.0     0.0        -     56           9471             50.00%  \n",
              "\n",
              "[119 rows x 11 columns]"
            ],
            "text/html": [
              "\n",
              "  <div id=\"df-5b3421e6-5ad2-40cf-b43c-12778553c390\">\n",
              "    <div class=\"colab-df-container\">\n",
              "      <div>\n",
              "<style scoped>\n",
              "    .dataframe tbody tr th:only-of-type {\n",
              "        vertical-align: middle;\n",
              "    }\n",
              "\n",
              "    .dataframe tbody tr th {\n",
              "        vertical-align: top;\n",
              "    }\n",
              "\n",
              "    .dataframe thead th {\n",
              "        text-align: right;\n",
              "    }\n",
              "</style>\n",
              "<table border=\"1\" class=\"dataframe\">\n",
              "  <thead>\n",
              "    <tr style=\"text-align: right;\">\n",
              "      <th></th>\n",
              "      <th>Contract Name</th>\n",
              "      <th>Last Trade Date</th>\n",
              "      <th>Strike</th>\n",
              "      <th>Last Price</th>\n",
              "      <th>Bid</th>\n",
              "      <th>Ask</th>\n",
              "      <th>Change</th>\n",
              "      <th>% Change</th>\n",
              "      <th>Volume</th>\n",
              "      <th>Open Interest</th>\n",
              "      <th>Implied Volatility</th>\n",
              "    </tr>\n",
              "  </thead>\n",
              "  <tbody>\n",
              "    <tr>\n",
              "      <th>0</th>\n",
              "      <td>TSLA230224C00015000</td>\n",
              "      <td>2023-02-15 3:40PM EST</td>\n",
              "      <td>15.0</td>\n",
              "      <td>197.85</td>\n",
              "      <td>0.0</td>\n",
              "      <td>0.0</td>\n",
              "      <td>0.0</td>\n",
              "      <td>-</td>\n",
              "      <td>50</td>\n",
              "      <td>24</td>\n",
              "      <td>0.00%</td>\n",
              "    </tr>\n",
              "    <tr>\n",
              "      <th>1</th>\n",
              "      <td>TSLA230224C00020000</td>\n",
              "      <td>2023-01-17 11:09AM EST</td>\n",
              "      <td>20.0</td>\n",
              "      <td>108.18</td>\n",
              "      <td>192.4</td>\n",
              "      <td>192.9</td>\n",
              "      <td>0.0</td>\n",
              "      <td>-</td>\n",
              "      <td>3</td>\n",
              "      <td>3</td>\n",
              "      <td>1,784.96%</td>\n",
              "    </tr>\n",
              "    <tr>\n",
              "      <th>2</th>\n",
              "      <td>TSLA230224C00025000</td>\n",
              "      <td>2023-01-18 9:34AM EST</td>\n",
              "      <td>25.0</td>\n",
              "      <td>111.18</td>\n",
              "      <td>0.0</td>\n",
              "      <td>0.0</td>\n",
              "      <td>0.0</td>\n",
              "      <td>-</td>\n",
              "      <td>3</td>\n",
              "      <td>0</td>\n",
              "      <td>0.00%</td>\n",
              "    </tr>\n",
              "    <tr>\n",
              "      <th>3</th>\n",
              "      <td>TSLA230224C00030000</td>\n",
              "      <td>2023-01-18 9:42AM EST</td>\n",
              "      <td>30.0</td>\n",
              "      <td>104.87</td>\n",
              "      <td>0.0</td>\n",
              "      <td>0.0</td>\n",
              "      <td>0.0</td>\n",
              "      <td>-</td>\n",
              "      <td>-</td>\n",
              "      <td>3</td>\n",
              "      <td>0.00%</td>\n",
              "    </tr>\n",
              "    <tr>\n",
              "      <th>4</th>\n",
              "      <td>TSLA230224C00055000</td>\n",
              "      <td>2023-02-06 9:36AM EST</td>\n",
              "      <td>55.0</td>\n",
              "      <td>141.75</td>\n",
              "      <td>0.0</td>\n",
              "      <td>0.0</td>\n",
              "      <td>0.0</td>\n",
              "      <td>-</td>\n",
              "      <td>1</td>\n",
              "      <td>3</td>\n",
              "      <td>0.00%</td>\n",
              "    </tr>\n",
              "    <tr>\n",
              "      <th>...</th>\n",
              "      <td>...</td>\n",
              "      <td>...</td>\n",
              "      <td>...</td>\n",
              "      <td>...</td>\n",
              "      <td>...</td>\n",
              "      <td>...</td>\n",
              "      <td>...</td>\n",
              "      <td>...</td>\n",
              "      <td>...</td>\n",
              "      <td>...</td>\n",
              "      <td>...</td>\n",
              "    </tr>\n",
              "    <tr>\n",
              "      <th>114</th>\n",
              "      <td>TSLA230224C00320000</td>\n",
              "      <td>2023-02-16 3:56PM EST</td>\n",
              "      <td>320.0</td>\n",
              "      <td>0.02</td>\n",
              "      <td>0.0</td>\n",
              "      <td>0.0</td>\n",
              "      <td>0.0</td>\n",
              "      <td>-</td>\n",
              "      <td>155</td>\n",
              "      <td>1616</td>\n",
              "      <td>50.00%</td>\n",
              "    </tr>\n",
              "    <tr>\n",
              "      <th>115</th>\n",
              "      <td>TSLA230224C00330000</td>\n",
              "      <td>2023-02-16 3:36PM EST</td>\n",
              "      <td>330.0</td>\n",
              "      <td>0.02</td>\n",
              "      <td>0.0</td>\n",
              "      <td>0.0</td>\n",
              "      <td>0.0</td>\n",
              "      <td>-</td>\n",
              "      <td>299</td>\n",
              "      <td>1145</td>\n",
              "      <td>50.00%</td>\n",
              "    </tr>\n",
              "    <tr>\n",
              "      <th>116</th>\n",
              "      <td>TSLA230224C00340000</td>\n",
              "      <td>2023-02-16 3:07PM EST</td>\n",
              "      <td>340.0</td>\n",
              "      <td>0.01</td>\n",
              "      <td>0.0</td>\n",
              "      <td>0.0</td>\n",
              "      <td>0.0</td>\n",
              "      <td>-</td>\n",
              "      <td>90</td>\n",
              "      <td>1481</td>\n",
              "      <td>50.00%</td>\n",
              "    </tr>\n",
              "    <tr>\n",
              "      <th>117</th>\n",
              "      <td>TSLA230224C00350000</td>\n",
              "      <td>2023-02-16 2:04PM EST</td>\n",
              "      <td>350.0</td>\n",
              "      <td>0.01</td>\n",
              "      <td>0.0</td>\n",
              "      <td>0.0</td>\n",
              "      <td>0.0</td>\n",
              "      <td>-</td>\n",
              "      <td>47</td>\n",
              "      <td>3018</td>\n",
              "      <td>50.00%</td>\n",
              "    </tr>\n",
              "    <tr>\n",
              "      <th>118</th>\n",
              "      <td>TSLA230224C00360000</td>\n",
              "      <td>2023-02-16 3:52PM EST</td>\n",
              "      <td>360.0</td>\n",
              "      <td>0.01</td>\n",
              "      <td>0.0</td>\n",
              "      <td>0.0</td>\n",
              "      <td>0.0</td>\n",
              "      <td>-</td>\n",
              "      <td>56</td>\n",
              "      <td>9471</td>\n",
              "      <td>50.00%</td>\n",
              "    </tr>\n",
              "  </tbody>\n",
              "</table>\n",
              "<p>119 rows × 11 columns</p>\n",
              "</div>\n",
              "      <button class=\"colab-df-convert\" onclick=\"convertToInteractive('df-5b3421e6-5ad2-40cf-b43c-12778553c390')\"\n",
              "              title=\"Convert this dataframe to an interactive table.\"\n",
              "              style=\"display:none;\">\n",
              "        \n",
              "  <svg xmlns=\"http://www.w3.org/2000/svg\" height=\"24px\"viewBox=\"0 0 24 24\"\n",
              "       width=\"24px\">\n",
              "    <path d=\"M0 0h24v24H0V0z\" fill=\"none\"/>\n",
              "    <path d=\"M18.56 5.44l.94 2.06.94-2.06 2.06-.94-2.06-.94-.94-2.06-.94 2.06-2.06.94zm-11 1L8.5 8.5l.94-2.06 2.06-.94-2.06-.94L8.5 2.5l-.94 2.06-2.06.94zm10 10l.94 2.06.94-2.06 2.06-.94-2.06-.94-.94-2.06-.94 2.06-2.06.94z\"/><path d=\"M17.41 7.96l-1.37-1.37c-.4-.4-.92-.59-1.43-.59-.52 0-1.04.2-1.43.59L10.3 9.45l-7.72 7.72c-.78.78-.78 2.05 0 2.83L4 21.41c.39.39.9.59 1.41.59.51 0 1.02-.2 1.41-.59l7.78-7.78 2.81-2.81c.8-.78.8-2.07 0-2.86zM5.41 20L4 18.59l7.72-7.72 1.47 1.35L5.41 20z\"/>\n",
              "  </svg>\n",
              "      </button>\n",
              "      \n",
              "  <style>\n",
              "    .colab-df-container {\n",
              "      display:flex;\n",
              "      flex-wrap:wrap;\n",
              "      gap: 12px;\n",
              "    }\n",
              "\n",
              "    .colab-df-convert {\n",
              "      background-color: #E8F0FE;\n",
              "      border: none;\n",
              "      border-radius: 50%;\n",
              "      cursor: pointer;\n",
              "      display: none;\n",
              "      fill: #1967D2;\n",
              "      height: 32px;\n",
              "      padding: 0 0 0 0;\n",
              "      width: 32px;\n",
              "    }\n",
              "\n",
              "    .colab-df-convert:hover {\n",
              "      background-color: #E2EBFA;\n",
              "      box-shadow: 0px 1px 2px rgba(60, 64, 67, 0.3), 0px 1px 3px 1px rgba(60, 64, 67, 0.15);\n",
              "      fill: #174EA6;\n",
              "    }\n",
              "\n",
              "    [theme=dark] .colab-df-convert {\n",
              "      background-color: #3B4455;\n",
              "      fill: #D2E3FC;\n",
              "    }\n",
              "\n",
              "    [theme=dark] .colab-df-convert:hover {\n",
              "      background-color: #434B5C;\n",
              "      box-shadow: 0px 1px 3px 1px rgba(0, 0, 0, 0.15);\n",
              "      filter: drop-shadow(0px 1px 2px rgba(0, 0, 0, 0.3));\n",
              "      fill: #FFFFFF;\n",
              "    }\n",
              "  </style>\n",
              "\n",
              "      <script>\n",
              "        const buttonEl =\n",
              "          document.querySelector('#df-5b3421e6-5ad2-40cf-b43c-12778553c390 button.colab-df-convert');\n",
              "        buttonEl.style.display =\n",
              "          google.colab.kernel.accessAllowed ? 'block' : 'none';\n",
              "\n",
              "        async function convertToInteractive(key) {\n",
              "          const element = document.querySelector('#df-5b3421e6-5ad2-40cf-b43c-12778553c390');\n",
              "          const dataTable =\n",
              "            await google.colab.kernel.invokeFunction('convertToInteractive',\n",
              "                                                     [key], {});\n",
              "          if (!dataTable) return;\n",
              "\n",
              "          const docLinkHtml = 'Like what you see? Visit the ' +\n",
              "            '<a target=\"_blank\" href=https://colab.research.google.com/notebooks/data_table.ipynb>data table notebook</a>'\n",
              "            + ' to learn more about interactive tables.';\n",
              "          element.innerHTML = '';\n",
              "          dataTable['output_type'] = 'display_data';\n",
              "          await google.colab.output.renderOutput(dataTable, element);\n",
              "          const docLink = document.createElement('div');\n",
              "          docLink.innerHTML = docLinkHtml;\n",
              "          element.appendChild(docLink);\n",
              "        }\n",
              "      </script>\n",
              "    </div>\n",
              "  </div>\n",
              "  "
            ]
          },
          "metadata": {},
          "execution_count": 6
        }
      ]
    },
    {
      "cell_type": "code",
      "source": [
        "# Our fixed model inputs: \n",
        "s     = 202       \n",
        "t     = 7/365\n",
        "r     = .0386\n",
        "sigma = 0.71      # 71% IV, pretty insane\n",
        "\n",
        "# Exercise price x will be obtained by iterating through the chain\n",
        "\n",
        "# And let's only show exercise prices of ATM +/- $20 \n",
        "range_filter = range(s-20,s+20)\n",
        "\n",
        "print(\"{}; {}; expiring on {}\".format(ticker, option_type, expirdate))\n",
        "print(\"Holding all variables constant, quoted price vs. theoretical values (TV) as follows:\")\n",
        "\n",
        "model = BSM(s=s,t=t,r=r,sigma=sigma)\n",
        "\n",
        "for i in range(len(chain)):\n",
        "  x = chain[\"Strike\"][i]\n",
        "  model.set_x(x)\n",
        "  q = chain[\"Last Price\"][i]\n",
        "  tv = None\n",
        "  if option_type == \"calls\":\n",
        "    tv = model.tv_call\n",
        "  elif option_type == \"puts\":\n",
        "    tv = model.tv_put\n",
        "  if x in range_filter:\n",
        "    print(\"strike:{},\\tquote={}\\t\\tTV={};\\t\\tdifference= {}\".format(x, q, tv.round(2), (q-tv).round(2)))"
      ],
      "metadata": {
        "colab": {
          "base_uri": "https://localhost:8080/"
        },
        "id": "Ux7dM5TW6cNL",
        "outputId": "7b40ee18-a0c3-41bf-cb70-429db3dfcdc6"
      },
      "execution_count": null,
      "outputs": [
        {
          "output_type": "stream",
          "name": "stdout",
          "text": [
            "TSLA; calls; expiring on February 24, 2023\n",
            "Holding all variables constant, quoted price vs. theoretical values (TV) as follows:\n",
            "strike:185.0,\tquote=19.9\t\tTV=15.94;\t\tdifference= 3.96\n",
            "strike:190.0,\tquote=15.84\t\tTV=13.57;\t\tdifference= 2.27\n",
            "strike:195.0,\tquote=12.37\t\tTV=11.23;\t\tdifference= 1.14\n",
            "strike:200.0,\tquote=9.35\t\tTV=8.9;\t\tdifference= 0.45\n",
            "strike:205.0,\tquote=6.95\t\tTV=6.6;\t\tdifference= 0.35\n",
            "strike:210.0,\tquote=5.0\t\tTV=4.31;\t\tdifference= 0.69\n",
            "strike:215.0,\tquote=3.49\t\tTV=2.04;\t\tdifference= 1.45\n",
            "strike:220.0,\tquote=2.44\t\tTV=-0.21;\t\tdifference= 2.65\n"
          ]
        }
      ]
    },
    {
      "cell_type": "markdown",
      "source": [
        "**Observations:** \n",
        "\n",
        "According to our BSM, holding all model-inputs constant at each iteration, TSLA calls with strike prices ranging from 185 to 220 expiring on Feb. 24, 2023 are all overpriced. On top of this observation, the model doesn't account for transaction costs. There is no theoretical edge to buying these options as single-legs."
      ],
      "metadata": {
        "id": "42nNRIwHyrE-"
      }
    }
  ]
}