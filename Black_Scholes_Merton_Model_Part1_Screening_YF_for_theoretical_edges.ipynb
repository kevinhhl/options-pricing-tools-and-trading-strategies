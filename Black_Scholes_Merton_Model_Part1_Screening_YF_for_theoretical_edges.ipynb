{
  "nbformat": 4,
  "nbformat_minor": 0,
  "metadata": {
    "colab": {
      "provenance": [],
      "collapsed_sections": [
        "Eqh0EZxUT_HB"
      ],
      "toc_visible": true,
      "authorship_tag": "ABX9TyO2PnvRBhsC+eaqKr+IINsM",
      "include_colab_link": true
    },
    "kernelspec": {
      "name": "python3",
      "display_name": "Python 3"
    },
    "language_info": {
      "name": "python"
    }
  },
  "cells": [
    {
      "cell_type": "markdown",
      "metadata": {
        "id": "view-in-github",
        "colab_type": "text"
      },
      "source": [
        "<a href=\"https://colab.research.google.com/github/kevinhhl/options-pricing-tools-and-trading-strategies/blob/main/Black_Scholes_Merton_Model_Part1_Screening_YF_for_theoretical_edges.ipynb\" target=\"_parent\"><img src=\"https://colab.research.google.com/assets/colab-badge.svg\" alt=\"Open In Colab\"/></a>"
      ]
    },
    {
      "cell_type": "markdown",
      "source": [
        "##### Imports"
      ],
      "metadata": {
        "id": "Eqh0EZxUT_HB"
      }
    },
    {
      "cell_type": "code",
      "source": [
        "!pip install yahoo_fin"
      ],
      "metadata": {
        "id": "e4wXm7jIRFYy",
        "colab": {
          "base_uri": "https://localhost:8080/"
        },
        "outputId": "563a659d-51d7-4d13-f908-e6d391166b2e"
      },
      "execution_count": 1,
      "outputs": [
        {
          "output_type": "stream",
          "name": "stdout",
          "text": [
            "Looking in indexes: https://pypi.org/simple, https://us-python.pkg.dev/colab-wheels/public/simple/\n",
            "Requirement already satisfied: yahoo_fin in /usr/local/lib/python3.8/dist-packages (0.8.9.1)\n",
            "Requirement already satisfied: requests-html in /usr/local/lib/python3.8/dist-packages (from yahoo_fin) (0.10.0)\n",
            "Requirement already satisfied: requests in /usr/local/lib/python3.8/dist-packages (from yahoo_fin) (2.28.2)\n",
            "Requirement already satisfied: pandas in /usr/local/lib/python3.8/dist-packages (from yahoo_fin) (1.3.5)\n",
            "Requirement already satisfied: feedparser in /usr/local/lib/python3.8/dist-packages (from yahoo_fin) (6.0.10)\n",
            "Requirement already satisfied: sgmllib3k in /usr/local/lib/python3.8/dist-packages (from feedparser->yahoo_fin) (1.0.0)\n",
            "Requirement already satisfied: numpy>=1.17.3 in /usr/local/lib/python3.8/dist-packages (from pandas->yahoo_fin) (1.21.6)\n",
            "Requirement already satisfied: pytz>=2017.3 in /usr/local/lib/python3.8/dist-packages (from pandas->yahoo_fin) (2022.7.1)\n",
            "Requirement already satisfied: python-dateutil>=2.7.3 in /usr/local/lib/python3.8/dist-packages (from pandas->yahoo_fin) (2.8.2)\n",
            "Requirement already satisfied: urllib3<1.27,>=1.21.1 in /usr/local/lib/python3.8/dist-packages (from requests->yahoo_fin) (1.26.14)\n",
            "Requirement already satisfied: charset-normalizer<4,>=2 in /usr/local/lib/python3.8/dist-packages (from requests->yahoo_fin) (2.1.1)\n",
            "Requirement already satisfied: certifi>=2017.4.17 in /usr/local/lib/python3.8/dist-packages (from requests->yahoo_fin) (2022.12.7)\n",
            "Requirement already satisfied: idna<4,>=2.5 in /usr/local/lib/python3.8/dist-packages (from requests->yahoo_fin) (2.10)\n",
            "Requirement already satisfied: bs4 in /usr/local/lib/python3.8/dist-packages (from requests-html->yahoo_fin) (0.0.1)\n",
            "Requirement already satisfied: fake-useragent in /usr/local/lib/python3.8/dist-packages (from requests-html->yahoo_fin) (1.1.1)\n",
            "Requirement already satisfied: pyppeteer>=0.0.14 in /usr/local/lib/python3.8/dist-packages (from requests-html->yahoo_fin) (1.0.2)\n",
            "Requirement already satisfied: pyquery in /usr/local/lib/python3.8/dist-packages (from requests-html->yahoo_fin) (2.0.0)\n",
            "Requirement already satisfied: parse in /usr/local/lib/python3.8/dist-packages (from requests-html->yahoo_fin) (1.19.0)\n",
            "Requirement already satisfied: w3lib in /usr/local/lib/python3.8/dist-packages (from requests-html->yahoo_fin) (2.1.1)\n",
            "Requirement already satisfied: pyee<9.0.0,>=8.1.0 in /usr/local/lib/python3.8/dist-packages (from pyppeteer>=0.0.14->requests-html->yahoo_fin) (8.2.2)\n",
            "Requirement already satisfied: importlib-metadata>=1.4 in /usr/local/lib/python3.8/dist-packages (from pyppeteer>=0.0.14->requests-html->yahoo_fin) (6.0.0)\n",
            "Requirement already satisfied: tqdm<5.0.0,>=4.42.1 in /usr/local/lib/python3.8/dist-packages (from pyppeteer>=0.0.14->requests-html->yahoo_fin) (4.64.1)\n",
            "Requirement already satisfied: websockets<11.0,>=10.0 in /usr/local/lib/python3.8/dist-packages (from pyppeteer>=0.0.14->requests-html->yahoo_fin) (10.4)\n",
            "Requirement already satisfied: appdirs<2.0.0,>=1.4.3 in /usr/local/lib/python3.8/dist-packages (from pyppeteer>=0.0.14->requests-html->yahoo_fin) (1.4.4)\n",
            "Requirement already satisfied: six>=1.5 in /usr/local/lib/python3.8/dist-packages (from python-dateutil>=2.7.3->pandas->yahoo_fin) (1.15.0)\n",
            "Requirement already satisfied: beautifulsoup4 in /usr/local/lib/python3.8/dist-packages (from bs4->requests-html->yahoo_fin) (4.11.2)\n",
            "Requirement already satisfied: importlib-resources>=5.0 in /usr/local/lib/python3.8/dist-packages (from fake-useragent->requests-html->yahoo_fin) (5.10.2)\n",
            "Requirement already satisfied: lxml>=2.1 in /usr/local/lib/python3.8/dist-packages (from pyquery->requests-html->yahoo_fin) (4.9.2)\n",
            "Requirement already satisfied: cssselect>=1.2.0 in /usr/local/lib/python3.8/dist-packages (from pyquery->requests-html->yahoo_fin) (1.2.0)\n",
            "Requirement already satisfied: zipp>=0.5 in /usr/local/lib/python3.8/dist-packages (from importlib-metadata>=1.4->pyppeteer>=0.0.14->requests-html->yahoo_fin) (3.12.1)\n",
            "Requirement already satisfied: soupsieve>1.2 in /usr/local/lib/python3.8/dist-packages (from beautifulsoup4->bs4->requests-html->yahoo_fin) (2.4)\n"
          ]
        }
      ]
    },
    {
      "cell_type": "code",
      "source": [
        "!pip install yfinance"
      ],
      "metadata": {
        "colab": {
          "base_uri": "https://localhost:8080/"
        },
        "id": "7LF7xm_wVFiu",
        "outputId": "ec66a002-eb6b-4cae-f1ea-89e432b840ab"
      },
      "execution_count": 2,
      "outputs": [
        {
          "output_type": "stream",
          "name": "stdout",
          "text": [
            "Looking in indexes: https://pypi.org/simple, https://us-python.pkg.dev/colab-wheels/public/simple/\n",
            "Requirement already satisfied: yfinance in /usr/local/lib/python3.8/dist-packages (0.2.12)\n",
            "Requirement already satisfied: appdirs>=1.4.4 in /usr/local/lib/python3.8/dist-packages (from yfinance) (1.4.4)\n",
            "Requirement already satisfied: html5lib>=1.1 in /usr/local/lib/python3.8/dist-packages (from yfinance) (1.1)\n",
            "Requirement already satisfied: multitasking>=0.0.7 in /usr/local/lib/python3.8/dist-packages (from yfinance) (0.0.11)\n",
            "Requirement already satisfied: lxml>=4.9.1 in /usr/local/lib/python3.8/dist-packages (from yfinance) (4.9.2)\n",
            "Requirement already satisfied: pandas>=1.3.0 in /usr/local/lib/python3.8/dist-packages (from yfinance) (1.3.5)\n",
            "Requirement already satisfied: pytz>=2022.5 in /usr/local/lib/python3.8/dist-packages (from yfinance) (2022.7.1)\n",
            "Requirement already satisfied: numpy>=1.16.5 in /usr/local/lib/python3.8/dist-packages (from yfinance) (1.21.6)\n",
            "Requirement already satisfied: cryptography>=3.3.2 in /usr/local/lib/python3.8/dist-packages (from yfinance) (39.0.1)\n",
            "Requirement already satisfied: requests>=2.26 in /usr/local/lib/python3.8/dist-packages (from yfinance) (2.28.2)\n",
            "Requirement already satisfied: beautifulsoup4>=4.11.1 in /usr/local/lib/python3.8/dist-packages (from yfinance) (4.11.2)\n",
            "Requirement already satisfied: frozendict>=2.3.4 in /usr/local/lib/python3.8/dist-packages (from yfinance) (2.3.4)\n",
            "Requirement already satisfied: soupsieve>1.2 in /usr/local/lib/python3.8/dist-packages (from beautifulsoup4>=4.11.1->yfinance) (2.4)\n",
            "Requirement already satisfied: cffi>=1.12 in /usr/local/lib/python3.8/dist-packages (from cryptography>=3.3.2->yfinance) (1.15.1)\n",
            "Requirement already satisfied: webencodings in /usr/local/lib/python3.8/dist-packages (from html5lib>=1.1->yfinance) (0.5.1)\n",
            "Requirement already satisfied: six>=1.9 in /usr/local/lib/python3.8/dist-packages (from html5lib>=1.1->yfinance) (1.15.0)\n",
            "Requirement already satisfied: python-dateutil>=2.7.3 in /usr/local/lib/python3.8/dist-packages (from pandas>=1.3.0->yfinance) (2.8.2)\n",
            "Requirement already satisfied: urllib3<1.27,>=1.21.1 in /usr/local/lib/python3.8/dist-packages (from requests>=2.26->yfinance) (1.26.14)\n",
            "Requirement already satisfied: charset-normalizer<4,>=2 in /usr/local/lib/python3.8/dist-packages (from requests>=2.26->yfinance) (2.1.1)\n",
            "Requirement already satisfied: idna<4,>=2.5 in /usr/local/lib/python3.8/dist-packages (from requests>=2.26->yfinance) (2.10)\n",
            "Requirement already satisfied: certifi>=2017.4.17 in /usr/local/lib/python3.8/dist-packages (from requests>=2.26->yfinance) (2022.12.7)\n",
            "Requirement already satisfied: pycparser in /usr/local/lib/python3.8/dist-packages (from cffi>=1.12->cryptography>=3.3.2->yfinance) (2.21)\n"
          ]
        }
      ]
    },
    {
      "cell_type": "code",
      "source": [
        "import math\n",
        "from scipy.stats import norm\n",
        "import pandas as pd\n",
        "from pandas import DataFrame\n",
        "from yahoo_fin import options\n",
        "from datetime import date\n",
        "import yfinance as yf\n"
      ],
      "metadata": {
        "id": "z1k7xS3DV7kV"
      },
      "execution_count": 3,
      "outputs": []
    },
    {
      "cell_type": "markdown",
      "source": [
        "---\n",
        "# **Overview**\n",
        "\n",
        "\n",
        "**Black-Scholes-Merton Model (\"BSM\") - Part 1**\n",
        "<br>\n",
        "This script will allow us to obtain options data provided by Yahoo Finance, and then for each quoted contract, to compute the theoretical value of it by applying the BSM. The goal is to find the difference between each contract’s quoted price and its theoretical value to allow us to ask further questions with regards to whether there will possibly be theoretical edges, especially with contracts associated with having the largest theoretical price discrepancies.\n",
        "<br>\n",
        "\n",
        "**Disadvantages to BSM** are, such as, but not limited to:\n",
        "* Was modeled for European-style options; early-exercise is not allowed\n",
        "* Assumes price to follow a random walk according to a brownian motion with a constant drift. <br>(I have created a separate notebook to explore this topic. [Link here.](https://github.com/kevinhhl/portfolio-management-tools/blob/main/Monte_Carlo_Simulation_Random_Walk.ipynb))\n",
        "* Ignores dividends\n",
        "* Inputs can be subjective, especially for expected volatility\n",
        "* Taxes and transaction costs are ignored\n",
        "\n",
        "**Advantages to BSM**\n",
        "* It is widely used\n",
        "* It's simple to apply\n",
        "\n",
        "<br>\n",
        "\n",
        "**Black-Scholes-Merton Model (“BSM”) - Part 2**\n",
        "There will be another part to this project in \"Part 2\". Next time, position analysis will be the focus. We will find ways to present multi-legged spreads in table formats to summarize the common Greeks."
      ],
      "metadata": {
        "id": "HYqpla_xSoT5"
      }
    },
    {
      "cell_type": "markdown",
      "source": [
        "# **Understanding the Model:**"
      ],
      "metadata": {
        "id": "BUWVCHR16qgL"
      }
    },
    {
      "cell_type": "markdown",
      "source": [
        "The derivation of the BSM is rather complex. Through research [1], I use my own words to summarize how I understand it from practical perspective.\n",
        "\n",
        "The premise of the Black-Scholes Model contains two components. It can be described as taking the difference of: <br>\n",
        "* (a) the expected value of a stock in the event that it reaches above/below exercise price on the date of expiration for call/put options, respectively, and \n",
        "* (b) the expected payout at the exercise price\n",
        "\n",
        ">* These components are expressed as:\n",
        "<br>\\begin{equation}\n",
        "TV_{call}=se^{rt}N(d_{1})-xN(d_{2})\n",
        "\\end{equation}\n",
        "<br>\\begin{equation}\n",
        "TV_{put}=xe^{-rt}N(-d_{2})-sN(-d_{1})\n",
        "\\end{equation}\n",
        "> \n",
        "> **Where**:\n",
        ">* TV is the theoretical value\n",
        "* s is the spot price at the current moment\n",
        "* x is the exercise price of the option\n",
        "* t is the time till maturity in no. of years\n",
        "* r is the risk free rate per annum\n",
        "* σ is the annualized volatility\n",
        "* N(d) is the CDF of a normal distribution.\n",
        "<br>\n",
        "<br>\\begin{equation}\n",
        "d_{1} =\\frac{ln(\\frac{S}{X})+(r+\\frac{\\sigma}{2}^2)t}{\\sigma\\sqrt{t}}\n",
        "\\end{equation}\n",
        "<br>\\begin{equation}\n",
        "d_{2}=d_{1}-\\sigma\\sqrt{t}\n",
        "\\end{equation}\n",
        "\n",
        "\n",
        "*Contemplative observations:*\n",
        "\n",
        "\n",
        "* The probability of price to be in-the-money for call/put options can be pictured as if seeing the data points '*d*' landing in the right/left sides of the CDF (for call/put options, respectively). \n",
        "* Probability of the put option to be in-the-money would be N(-d), which represents the left tail of the CDF; speaking of the area from negative-infinity to 0-d. The probability of a call option to be in-the-money would be 1-N(-d); being the right-tail of the CDF.\n",
        "* Price is not normally distributed. Instead, a lognormal distribution would better describe it. We still want to associate probability of price reaching X with the normal distribution, so we need to make the adjustments to *d*. Also, we will want to risk-adjust *d* according to *r*\n",
        "\n",
        "<br>\n",
        "\n",
        "---\n",
        "*References:*\n",
        "\n",
        "[1] Natenberg, Sheldon. <i>Chapter 18, Option Volatility and Pricing, Second Edition</i>. McGraw-Hill Edu., 2015.\n",
        "\n"
      ],
      "metadata": {
        "id": "1snfuosuUDQo"
      }
    },
    {
      "cell_type": "markdown",
      "source": [
        "# **Implementation:**"
      ],
      "metadata": {
        "id": "5udN_X6G6D6U"
      }
    },
    {
      "cell_type": "code",
      "source": [
        "class BSM:\n",
        "  \n",
        "  def __init__(self, s,t,r,sigma):\n",
        "    # Input(s) that are not set by constructor: \n",
        "    # self.x - changes as we loop through the options chain provided by Yahoo Finance\n",
        "\n",
        "    # inputs do not change:\n",
        "    self.s = s\n",
        "    self.t = t\n",
        "    self.r = r\n",
        "    self.sigma = sigma\n",
        "\n",
        "  def set_x(self, x):\n",
        "    self.x = x\n",
        "    self._recalc()\n",
        "\n",
        "  def _recalc(self):\n",
        "    # When input variable 'x' changes, will need to recalc\n",
        "    self.d1 = self._d1() \n",
        "    self.d2 = self.d1 - self.sigma * math.sqrt(self.t)\n",
        "    self.tv_call = self.s * norm.cdf(self.d1) - self.x*math.exp(-self.r*self.t)*norm.cdf(self.d2)\n",
        "    self.tv_put = self.x * math.exp(-self.r*self.t)-self.s+self.tv_call\n",
        "\n",
        "  def _d1(self):\n",
        "    a = math.log(self.s/ self.x)\n",
        "    b = (self.r+self.sigma**2/2)*self.t\n",
        "    return(a+b)/self.sigma*math.sqrt(self.t)\n"
      ],
      "metadata": {
        "id": "H-OZtfUNWLav"
      },
      "execution_count": 4,
      "outputs": []
    },
    {
      "cell_type": "markdown",
      "source": [
        "---\n",
        "Checking calculations with @YuChenAmberLu's version in [<link\\>](https://github.com/YuChenAmberLu/Options-Calculator)"
      ],
      "metadata": {
        "id": "PQ8ElXfM1PfJ"
      }
    },
    {
      "cell_type": "code",
      "source": [
        "# Validations with YuChenAmberLu's version:\n",
        "test_model = BSM(s=100,t=0.128767,r=0.2,sigma=0.2)\n",
        "test_model.set_x(100)\n",
        "assert (test_model.tv_call-4.112199).round(5)==0\n",
        "assert (test_model.tv_put-1.569736).round(5)==0"
      ],
      "metadata": {
        "id": "L1Uc3Tm5ha4i"
      },
      "execution_count": 5,
      "outputs": []
    },
    {
      "cell_type": "markdown",
      "source": [
        "---\n",
        "# **Application:**\n",
        "> **Comparing with Yahoo Finance**\n",
        ">\n",
        "> The idea of this project is to loop through certain option chains in Yahoo and see if we can scan for options with theoretical edges. This notebook is a mere illustration of how it can be done, we will only calculate TSLA's calls that are near at-the-money. "
      ],
      "metadata": {
        "id": "d4K9cO8IsWuh"
      }
    },
    {
      "cell_type": "markdown",
      "source": [
        "## 😎 Setting up our model:"
      ],
      "metadata": {
        "id": "sG6QCK1UdE6T"
      }
    },
    {
      "cell_type": "code",
      "source": [
        "# Manual inputs:\n",
        "ticker              = \"TSLA\"          # <-- Symbol\n",
        "r                   = .0512           # <-- The continuously compounded risk-free rate\n",
        "sigma               = 0.50            # <-- Expected annualized volatility\n",
        "date_today          = date(2023,2,18) # <-- Today's date\n",
        "date_expire         = date(2023,2,24) # <-- Expiration date (Must be according to a valid contract)"
      ],
      "metadata": {
        "id": "Uhtg_8lb4ycq"
      },
      "execution_count": 6,
      "outputs": []
    },
    {
      "cell_type": "code",
      "source": [
        "# Confirming that the expiration date is valid.\n",
        "exp_dates = options.get_expiration_dates(ticker)\n",
        "date_expire_str         = date_expire.strftime(\"%B %d, %Y\") \n",
        "assert date_expire_str in exp_dates\n",
        "exp_dates"
      ],
      "metadata": {
        "colab": {
          "base_uri": "https://localhost:8080/"
        },
        "id": "3z4s1NAvl1rM",
        "outputId": "016c90b8-d98a-41c2-84c5-b902852a7e3a"
      },
      "execution_count": 7,
      "outputs": [
        {
          "output_type": "execute_result",
          "data": {
            "text/plain": [
              "['February 17, 2023',\n",
              " 'February 24, 2023',\n",
              " 'March 3, 2023',\n",
              " 'March 10, 2023',\n",
              " 'March 17, 2023',\n",
              " 'March 24, 2023',\n",
              " 'March 31, 2023',\n",
              " 'April 21, 2023',\n",
              " 'May 19, 2023',\n",
              " 'June 16, 2023',\n",
              " 'July 21, 2023',\n",
              " 'September 15, 2023',\n",
              " 'December 15, 2023',\n",
              " 'January 19, 2024',\n",
              " 'March 15, 2024',\n",
              " 'June 21, 2024',\n",
              " 'September 20, 2024',\n",
              " 'January 17, 2025',\n",
              " 'June 20, 2025']"
            ]
          },
          "metadata": {},
          "execution_count": 7
        }
      ]
    },
    {
      "cell_type": "code",
      "source": [
        "# Inputs that can be obtained programmatically\n",
        "s = (yf.Ticker(ticker).info[\"bid\"]+yf.Ticker(ticker).info[\"ask\"])/2\n",
        "t = (date_expire-date_today).days/365"
      ],
      "metadata": {
        "id": "C43lM_M74_Xy"
      },
      "execution_count": 8,
      "outputs": []
    },
    {
      "cell_type": "code",
      "source": [
        "# helper function\n",
        "def _print(option_type, model):\n",
        "  print(\"{}, close={}; {}; expiring on {}\".format(ticker, round(s,2), option_type, date_expire_str))\n",
        "  print(\"Holding all variables constant, quoted price vs. theoretical values (TV) as follows:\\n\")\n",
        "\n",
        "  chain = options.get_options_chain(ticker, date_expire_str)[option_type]\n",
        "  for i in range(len(chain)):\n",
        "    x = chain[\"Strike\"][i]\n",
        "    model.set_x(x)\n",
        "    q = chain[\"Last Price\"][i]\n",
        "    \n",
        "    tv = None\n",
        "    if option_type == \"calls\":\n",
        "      tv = model.tv_call\n",
        "    elif option_type == \"puts\":\n",
        "      tv = model.tv_put\n",
        "    if tv > 0: \n",
        "      print(\"{}: strike= {},\\tquote={}\\t\\tTV= {};\\t\\tdiff.= {}\".format(option_type, x, q, tv.round(2), (q-tv).round(2)))"
      ],
      "metadata": {
        "id": "4kFekt0lomiB"
      },
      "execution_count": 9,
      "outputs": []
    },
    {
      "cell_type": "markdown",
      "source": [
        "---\n",
        "\n",
        "###**🟢 Call options:**"
      ],
      "metadata": {
        "id": "cfl4qwhxbOER"
      }
    },
    {
      "cell_type": "code",
      "source": [
        "model = BSM(s=s,t=t,r=r,sigma=sigma)\n",
        "_print(\"calls\", model)"
      ],
      "metadata": {
        "colab": {
          "base_uri": "https://localhost:8080/"
        },
        "id": "Ux7dM5TW6cNL",
        "outputId": "b8742150-3be1-4af7-a412-3834ce9aa297"
      },
      "execution_count": 10,
      "outputs": [
        {
          "output_type": "stream",
          "name": "stdout",
          "text": [
            "TSLA, close=201.79; calls; expiring on February 24, 2023\n",
            "Holding all variables constant, quoted price vs. theoretical values (TV) as follows:\n",
            "\n",
            "calls: strike= 15.0,\tquote=197.85\t\tTV= 139.98;\t\tdiff.= 57.87\n",
            "calls: strike= 20.0,\tquote=108.18\t\tTV= 131.98;\t\tdiff.= -23.8\n",
            "calls: strike= 25.0,\tquote=111.18\t\tTV= 125.05;\t\tdiff.= -13.87\n",
            "calls: strike= 30.0,\tquote=104.87\t\tTV= 118.85;\t\tdiff.= -13.98\n",
            "calls: strike= 55.0,\tquote=141.75\t\tTV= 93.97;\t\tdiff.= 47.78\n",
            "calls: strike= 60.0,\tquote=140.33\t\tTV= 89.75;\t\tdiff.= 50.58\n",
            "calls: strike= 65.0,\tquote=129.26\t\tTV= 85.7;\t\tdiff.= 43.56\n",
            "calls: strike= 70.0,\tquote=104.95\t\tTV= 81.8;\t\tdiff.= 23.15\n",
            "calls: strike= 75.0,\tquote=90.45\t\tTV= 78.04;\t\tdiff.= 12.41\n",
            "calls: strike= 80.0,\tquote=131.15\t\tTV= 74.39;\t\tdiff.= 56.76\n",
            "calls: strike= 85.0,\tquote=115.75\t\tTV= 70.85;\t\tdiff.= 44.9\n",
            "calls: strike= 90.0,\tquote=111.76\t\tTV= 67.4;\t\tdiff.= 44.36\n",
            "calls: strike= 95.0,\tquote=108.13\t\tTV= 64.04;\t\tdiff.= 44.09\n",
            "calls: strike= 98.0,\tquote=74.5\t\tTV= 62.07;\t\tdiff.= 12.43\n",
            "calls: strike= 99.0,\tquote=103.0\t\tTV= 61.42;\t\tdiff.= 41.58\n",
            "calls: strike= 100.0,\tquote=101.41\t\tTV= 60.77;\t\tdiff.= 40.64\n",
            "calls: strike= 101.0,\tquote=110.0\t\tTV= 60.12;\t\tdiff.= 49.88\n",
            "calls: strike= 102.0,\tquote=111.75\t\tTV= 59.48;\t\tdiff.= 52.27\n",
            "calls: strike= 103.0,\tquote=93.95\t\tTV= 58.84;\t\tdiff.= 35.11\n",
            "calls: strike= 104.0,\tquote=110.1\t\tTV= 58.2;\t\tdiff.= 51.9\n",
            "calls: strike= 105.0,\tquote=97.52\t\tTV= 57.57;\t\tdiff.= 39.95\n",
            "calls: strike= 106.0,\tquote=106.25\t\tTV= 56.93;\t\tdiff.= 49.32\n",
            "calls: strike= 107.0,\tquote=94.84\t\tTV= 56.31;\t\tdiff.= 38.53\n",
            "calls: strike= 108.0,\tquote=92.75\t\tTV= 55.68;\t\tdiff.= 37.07\n",
            "calls: strike= 109.0,\tquote=106.7\t\tTV= 55.06;\t\tdiff.= 51.64\n",
            "calls: strike= 110.0,\tquote=91.0\t\tTV= 54.43;\t\tdiff.= 36.57\n",
            "calls: strike= 111.0,\tquote=104.95\t\tTV= 53.82;\t\tdiff.= 51.13\n",
            "calls: strike= 112.0,\tquote=89.05\t\tTV= 53.2;\t\tdiff.= 35.85\n",
            "calls: strike= 113.0,\tquote=88.0\t\tTV= 52.59;\t\tdiff.= 35.41\n",
            "calls: strike= 114.0,\tquote=102.3\t\tTV= 51.97;\t\tdiff.= 50.33\n",
            "calls: strike= 115.0,\tquote=83.13\t\tTV= 51.37;\t\tdiff.= 31.76\n",
            "calls: strike= 116.0,\tquote=86.1\t\tTV= 50.76;\t\tdiff.= 35.34\n",
            "calls: strike= 117.0,\tquote=85.2\t\tTV= 50.16;\t\tdiff.= 35.04\n",
            "calls: strike= 118.0,\tquote=83.22\t\tTV= 49.55;\t\tdiff.= 33.67\n",
            "calls: strike= 119.0,\tquote=82.1\t\tTV= 48.95;\t\tdiff.= 33.15\n",
            "calls: strike= 120.0,\tquote=81.5\t\tTV= 48.36;\t\tdiff.= 33.14\n",
            "calls: strike= 121.0,\tquote=85.55\t\tTV= 47.76;\t\tdiff.= 37.79\n",
            "calls: strike= 122.0,\tquote=79.4\t\tTV= 47.17;\t\tdiff.= 32.23\n",
            "calls: strike= 123.0,\tquote=78.15\t\tTV= 46.58;\t\tdiff.= 31.57\n",
            "calls: strike= 124.0,\tquote=76.41\t\tTV= 45.99;\t\tdiff.= 30.42\n",
            "calls: strike= 125.0,\tquote=77.05\t\tTV= 45.41;\t\tdiff.= 31.64\n",
            "calls: strike= 126.0,\tquote=74.2\t\tTV= 44.82;\t\tdiff.= 29.38\n",
            "calls: strike= 127.0,\tquote=73.95\t\tTV= 44.24;\t\tdiff.= 29.71\n",
            "calls: strike= 128.0,\tquote=74.93\t\tTV= 43.66;\t\tdiff.= 31.27\n",
            "calls: strike= 129.0,\tquote=72.85\t\tTV= 43.08;\t\tdiff.= 29.77\n",
            "calls: strike= 130.0,\tquote=70.45\t\tTV= 42.51;\t\tdiff.= 27.94\n",
            "calls: strike= 131.0,\tquote=67.5\t\tTV= 41.93;\t\tdiff.= 25.57\n",
            "calls: strike= 132.0,\tquote=69.2\t\tTV= 41.36;\t\tdiff.= 27.84\n",
            "calls: strike= 133.0,\tquote=67.95\t\tTV= 40.79;\t\tdiff.= 27.16\n",
            "calls: strike= 134.0,\tquote=68.32\t\tTV= 40.22;\t\tdiff.= 28.1\n",
            "calls: strike= 135.0,\tquote=66.57\t\tTV= 39.65;\t\tdiff.= 26.92\n",
            "calls: strike= 136.0,\tquote=65.45\t\tTV= 39.09;\t\tdiff.= 26.36\n",
            "calls: strike= 137.0,\tquote=64.75\t\tTV= 38.53;\t\tdiff.= 26.22\n",
            "calls: strike= 138.0,\tquote=63.61\t\tTV= 37.97;\t\tdiff.= 25.64\n",
            "calls: strike= 139.0,\tquote=61.75\t\tTV= 37.41;\t\tdiff.= 24.34\n",
            "calls: strike= 140.0,\tquote=60.62\t\tTV= 36.85;\t\tdiff.= 23.77\n",
            "calls: strike= 141.0,\tquote=58.6\t\tTV= 36.3;\t\tdiff.= 22.3\n",
            "calls: strike= 142.0,\tquote=59.5\t\tTV= 35.74;\t\tdiff.= 23.76\n",
            "calls: strike= 143.0,\tquote=56.0\t\tTV= 35.19;\t\tdiff.= 20.81\n",
            "calls: strike= 144.0,\tquote=57.48\t\tTV= 34.64;\t\tdiff.= 22.84\n",
            "calls: strike= 145.0,\tquote=57.01\t\tTV= 34.09;\t\tdiff.= 22.92\n",
            "calls: strike= 146.0,\tquote=55.85\t\tTV= 33.54;\t\tdiff.= 22.31\n",
            "calls: strike= 147.0,\tquote=55.38\t\tTV= 33.0;\t\tdiff.= 22.38\n",
            "calls: strike= 148.0,\tquote=54.3\t\tTV= 32.46;\t\tdiff.= 21.84\n",
            "calls: strike= 149.0,\tquote=52.8\t\tTV= 31.91;\t\tdiff.= 20.89\n",
            "calls: strike= 150.0,\tquote=51.2\t\tTV= 31.37;\t\tdiff.= 19.83\n",
            "calls: strike= 152.5,\tquote=49.25\t\tTV= 30.03;\t\tdiff.= 19.22\n",
            "calls: strike= 155.0,\tquote=47.22\t\tTV= 28.69;\t\tdiff.= 18.53\n",
            "calls: strike= 157.5,\tquote=44.11\t\tTV= 27.37;\t\tdiff.= 16.74\n",
            "calls: strike= 160.0,\tquote=41.8\t\tTV= 26.05;\t\tdiff.= 15.75\n",
            "calls: strike= 162.5,\tquote=38.85\t\tTV= 24.75;\t\tdiff.= 14.1\n",
            "calls: strike= 165.0,\tquote=36.63\t\tTV= 23.45;\t\tdiff.= 13.18\n",
            "calls: strike= 167.5,\tquote=34.2\t\tTV= 22.16;\t\tdiff.= 12.04\n",
            "calls: strike= 170.0,\tquote=32.05\t\tTV= 20.88;\t\tdiff.= 11.17\n",
            "calls: strike= 172.5,\tquote=30.25\t\tTV= 19.6;\t\tdiff.= 10.65\n",
            "calls: strike= 175.0,\tquote=27.09\t\tTV= 18.34;\t\tdiff.= 8.75\n",
            "calls: strike= 177.5,\tquote=25.55\t\tTV= 17.08;\t\tdiff.= 8.47\n",
            "calls: strike= 180.0,\tquote=23.05\t\tTV= 15.83;\t\tdiff.= 7.22\n",
            "calls: strike= 182.5,\tquote=20.13\t\tTV= 14.59;\t\tdiff.= 5.54\n",
            "calls: strike= 185.0,\tquote=18.47\t\tTV= 13.35;\t\tdiff.= 5.12\n",
            "calls: strike= 187.5,\tquote=16.45\t\tTV= 12.12;\t\tdiff.= 4.33\n",
            "calls: strike= 190.0,\tquote=14.15\t\tTV= 10.9;\t\tdiff.= 3.25\n",
            "calls: strike= 192.5,\tquote=12.7\t\tTV= 9.69;\t\tdiff.= 3.01\n",
            "calls: strike= 195.0,\tquote=10.95\t\tTV= 8.48;\t\tdiff.= 2.47\n",
            "calls: strike= 197.5,\tquote=9.5\t\tTV= 7.28;\t\tdiff.= 2.22\n",
            "calls: strike= 200.0,\tquote=8.05\t\tTV= 6.09;\t\tdiff.= 1.96\n",
            "calls: strike= 202.5,\tquote=6.9\t\tTV= 4.9;\t\tdiff.= 2.0\n",
            "calls: strike= 205.0,\tquote=5.75\t\tTV= 3.72;\t\tdiff.= 2.03\n",
            "calls: strike= 207.5,\tquote=4.75\t\tTV= 2.54;\t\tdiff.= 2.21\n",
            "calls: strike= 210.0,\tquote=3.9\t\tTV= 1.37;\t\tdiff.= 2.53\n",
            "calls: strike= 212.5,\tquote=3.25\t\tTV= 0.21;\t\tdiff.= 3.04\n"
          ]
        }
      ]
    },
    {
      "cell_type": "markdown",
      "source": [
        "---\n",
        "###**🔴 Put options:**"
      ],
      "metadata": {
        "id": "D3FLRcuXbSFL"
      }
    },
    {
      "cell_type": "code",
      "source": [
        "model = BSM(s=s,t=t,r=r,sigma=sigma)\n",
        "_print(\"puts\", model)"
      ],
      "metadata": {
        "colab": {
          "base_uri": "https://localhost:8080/"
        },
        "id": "-tiOEvIhS-m-",
        "outputId": "c00cc3a3-921c-4639-812e-b142ede8ff94"
      },
      "execution_count": 11,
      "outputs": [
        {
          "output_type": "stream",
          "name": "stdout",
          "text": [
            "TSLA, close=201.79; puts; expiring on February 24, 2023\n",
            "Holding all variables constant, quoted price vs. theoretical values (TV) as follows:\n",
            "\n",
            "puts: strike= 192.5,\tquote=3.4\t\tTV= 0.24;\t\tdiff.= 3.16\n",
            "puts: strike= 195.0,\tquote=4.15\t\tTV= 1.53;\t\tdiff.= 2.62\n",
            "puts: strike= 197.5,\tquote=5.2\t\tTV= 2.83;\t\tdiff.= 2.37\n",
            "puts: strike= 200.0,\tquote=6.15\t\tTV= 4.13;\t\tdiff.= 2.02\n",
            "puts: strike= 202.5,\tquote=7.45\t\tTV= 5.44;\t\tdiff.= 2.01\n",
            "puts: strike= 205.0,\tquote=8.85\t\tTV= 6.76;\t\tdiff.= 2.09\n",
            "puts: strike= 207.5,\tquote=10.5\t\tTV= 8.08;\t\tdiff.= 2.42\n",
            "puts: strike= 210.0,\tquote=12.13\t\tTV= 9.41;\t\tdiff.= 2.72\n",
            "puts: strike= 212.5,\tquote=13.92\t\tTV= 10.74;\t\tdiff.= 3.18\n",
            "puts: strike= 215.0,\tquote=15.85\t\tTV= 12.08;\t\tdiff.= 3.77\n",
            "puts: strike= 217.5,\tquote=18.4\t\tTV= 13.43;\t\tdiff.= 4.97\n",
            "puts: strike= 220.0,\tquote=20.35\t\tTV= 14.78;\t\tdiff.= 5.57\n",
            "puts: strike= 222.5,\tquote=22.4\t\tTV= 16.14;\t\tdiff.= 6.26\n",
            "puts: strike= 225.0,\tquote=24.95\t\tTV= 17.5;\t\tdiff.= 7.45\n",
            "puts: strike= 227.5,\tquote=27.11\t\tTV= 18.87;\t\tdiff.= 8.24\n",
            "puts: strike= 230.0,\tquote=29.0\t\tTV= 20.24;\t\tdiff.= 8.76\n",
            "puts: strike= 232.5,\tquote=31.6\t\tTV= 21.62;\t\tdiff.= 9.98\n",
            "puts: strike= 235.0,\tquote=33.9\t\tTV= 23.0;\t\tdiff.= 10.9\n",
            "puts: strike= 240.0,\tquote=38.95\t\tTV= 25.78;\t\tdiff.= 13.17\n",
            "puts: strike= 245.0,\tquote=44.05\t\tTV= 28.58;\t\tdiff.= 15.47\n",
            "puts: strike= 250.0,\tquote=49.0\t\tTV= 31.4;\t\tdiff.= 17.6\n",
            "puts: strike= 255.0,\tquote=52.55\t\tTV= 34.24;\t\tdiff.= 18.31\n",
            "puts: strike= 260.0,\tquote=52.3\t\tTV= 37.1;\t\tdiff.= 15.2\n",
            "puts: strike= 265.0,\tquote=66.82\t\tTV= 39.97;\t\tdiff.= 26.85\n",
            "puts: strike= 270.0,\tquote=58.7\t\tTV= 42.86;\t\tdiff.= 15.84\n",
            "puts: strike= 275.0,\tquote=59.65\t\tTV= 45.76;\t\tdiff.= 13.89\n",
            "puts: strike= 280.0,\tquote=69.0\t\tTV= 48.68;\t\tdiff.= 20.32\n",
            "puts: strike= 290.0,\tquote=88.5\t\tTV= 54.57;\t\tdiff.= 33.93\n",
            "puts: strike= 295.0,\tquote=93.79\t\tTV= 57.54;\t\tdiff.= 36.25\n",
            "puts: strike= 300.0,\tquote=97.65\t\tTV= 60.52;\t\tdiff.= 37.13\n",
            "puts: strike= 310.0,\tquote=107.0\t\tTV= 66.52;\t\tdiff.= 40.48\n",
            "puts: strike= 330.0,\tquote=134.5\t\tTV= 78.68;\t\tdiff.= 55.82\n",
            "puts: strike= 350.0,\tquote=136.23\t\tTV= 91.03;\t\tdiff.= 45.2\n",
            "puts: strike= 360.0,\tquote=148.78\t\tTV= 97.28;\t\tdiff.= 51.5\n"
          ]
        }
      ]
    }
  ]
}