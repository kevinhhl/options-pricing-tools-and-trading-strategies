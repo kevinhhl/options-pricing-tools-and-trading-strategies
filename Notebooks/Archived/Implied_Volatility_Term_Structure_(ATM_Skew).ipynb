{
  "nbformat": 4,
  "nbformat_minor": 0,
  "metadata": {
    "colab": {
      "provenance": [],
      "toc_visible": true
    },
    "kernelspec": {
      "name": "python3",
      "display_name": "Python 3"
    },
    "language_info": {
      "name": "python"
    }
  },
  "cells": [
    {
      "cell_type": "code",
      "source": [
        "!pip install yahoo_fin\n",
        "!pip install yfinance"
      ],
      "metadata": {
        "id": "e4wXm7jIRFYy"
      },
      "execution_count": null,
      "outputs": []
    },
    {
      "cell_type": "code",
      "source": [
        "import time\n",
        "import pandas as pd\n",
        "from datetime import date\n",
        "from yahoo_fin import options\n",
        "import yfinance as yf\n",
        "import numpy as np\n",
        "import math"
      ],
      "metadata": {
        "id": "z1k7xS3DV7kV"
      },
      "execution_count": 2,
      "outputs": []
    },
    {
      "cell_type": "markdown",
      "source": [
        "# **Overview:**\n",
        "\n",
        "A common way to predict future realized volatility is by directly obtaining implied volatility (IV) from the market. \n",
        "\n",
        "This is arguably more reliable than building models to forecast it based on historical volatility. \n",
        "\n",
        "\n",
        "How to obtain IV from the market:\n",
        "\n",
        "\n",
        "* **Method 1:**\n",
        "\n",
        " Using the Black Scholes Model, set the price of the option equal to the quoted market price, then holding all variables constant and letting IV as the unknown variable, solve for sigma. The solved value is our IV.\n",
        " \n",
        " When solving for sigma, we can validate whether implied volatility is correct by: (1) checking that the model's price is being closely equal to the option's market price, and (2) the delta should be extremely close to 50. \n",
        "\n",
        "\n",
        "* **Method 2** (*Shortcut*): \n",
        "\n",
        " There is actually no need for us to solve IV by ourselves through coding. The option chain provided by Yahoo Finance has the IVs for each individual contract. We just need to look up options that are at-the-money or near-the-money.\n",
        "\n",
        "This script will be an implementation of **Method 2**. We will go further by looking up the IVs of an option at the same strike price but across different maturities. This information will be useful when considering or calendar spread strategies, and for understanding the term structure of options for specific underlying assets. "
      ],
      "metadata": {
        "id": "nb2CxCAtpc1C"
      }
    },
    {
      "cell_type": "code",
      "source": [
        "# Manual inputs:\n",
        "symbol                   = \"TSLA\" \n",
        "riskfree_rate            = math.e**(.0395)-1\n",
        "date_today               = date(2023,2,28)  # for crnt_price"
      ],
      "metadata": {
        "id": "idmkXE0H3DdL"
      },
      "execution_count": 3,
      "outputs": []
    },
    {
      "cell_type": "code",
      "source": [
        "ticker_yahoo = yf.Ticker(symbol)\n",
        "data = ticker_yahoo.history()\n",
        "crnt_price = data['Close'].iloc[-1]\n",
        "crnt_price"
      ],
      "metadata": {
        "id": "pA2Z0J_Y_-uD",
        "colab": {
          "base_uri": "https://localhost:8080/"
        },
        "outputId": "f2c2b06f-7678-450c-b6af-45b1c700c458"
      },
      "execution_count": 4,
      "outputs": [
        {
          "output_type": "execute_result",
          "data": {
            "text/plain": [
              "205.7100067138672"
            ]
          },
          "metadata": {},
          "execution_count": 4
        }
      ]
    },
    {
      "cell_type": "code",
      "source": [
        "def _get_iv(chain):\n",
        "  ''' get_iv(Object)\n",
        "      @param Object : chain, an object from options.get_options_chain()\n",
        "      Returns implied volatility as float. \n",
        "  '''\n",
        "  iv = None\n",
        "  for i in range(len(chain)-1):\n",
        "      c = chain[\"Strike\"]\n",
        "      if c[i+1] >= crnt_price and c[i] <= crnt_price:\n",
        "        iv = chain[\"Implied Volatility\"][i]\n",
        "        break\n",
        "  return float(iv.strip(\"%\"))/100"
      ],
      "metadata": {
        "id": "75MfnTf4ttCr"
      },
      "execution_count": 5,
      "outputs": []
    },
    {
      "cell_type": "code",
      "source": [
        "def get_iv(type_options):\n",
        "  ''' get_iv(string)\n",
        "      @param string : type_options, either \"calls\" or \"puts\"\n",
        "      Returns tuple of (A) list of expiry dates, and (B) list of IV\n",
        "  '''\n",
        "  list_iv = [] \n",
        "  list_expdates= []\n",
        "  for date_expire_str in options.get_expiration_dates(symbol):\n",
        "    tmp = options.get_options_chain(symbol, date_expire_str)[type_options]\n",
        "    iv = _get_iv(tmp)\n",
        "    list_expdates.append(date_expire_str)\n",
        "    list_iv.append(iv)\n",
        "    print(\"{}; ATM Call; iv={}\".format(date_expire_str, round(iv,4)))\n",
        "  return (list_expdates, list_iv)"
      ],
      "metadata": {
        "id": "C77FmYa8wTIw"
      },
      "execution_count": 6,
      "outputs": []
    },
    {
      "cell_type": "code",
      "source": [
        "list1, list2 = get_iv(\"calls\")"
      ],
      "metadata": {
        "colab": {
          "base_uri": "https://localhost:8080/"
        },
        "id": "2E4yo95hQrEu",
        "outputId": "2ce99fb1-8df1-4ea0-ab3e-9ce2547d716c"
      },
      "execution_count": 7,
      "outputs": [
        {
          "output_type": "stream",
          "name": "stdout",
          "text": [
            "March 3, 2023; ATM Call; iv=0.9414\n",
            "March 10, 2023; ATM Call; iv=0.7446\n",
            "March 17, 2023; ATM Call; iv=0.6987\n",
            "March 24, 2023; ATM Call; iv=0.6836\n",
            "March 31, 2023; ATM Call; iv=0.6656\n",
            "April 6, 2023; ATM Call; iv=0.6854\n",
            "April 21, 2023; ATM Call; iv=0.6954\n",
            "May 19, 2023; ATM Call; iv=0.674\n",
            "June 16, 2023; ATM Call; iv=0.6523\n",
            "July 21, 2023; ATM Call; iv=0.6522\n",
            "September 15, 2023; ATM Call; iv=0.638\n",
            "November 17, 2023; ATM Call; iv=0.6526\n",
            "December 15, 2023; ATM Call; iv=0.6368\n",
            "January 19, 2024; ATM Call; iv=0.6371\n",
            "March 15, 2024; ATM Call; iv=0.6403\n",
            "June 21, 2024; ATM Call; iv=0.6419\n",
            "September 20, 2024; ATM Call; iv=0.6414\n",
            "January 17, 2025; ATM Call; iv=0.6431\n",
            "June 20, 2025; ATM Call; iv=0.6364\n"
          ]
        }
      ]
    },
    {
      "cell_type": "code",
      "source": [
        "np.average(np.array(list2))"
      ],
      "metadata": {
        "colab": {
          "base_uri": "https://localhost:8080/"
        },
        "id": "fM8aqo0uUq2G",
        "outputId": "cb8064b3-f9dc-489c-e7b5-d58e751d1c03"
      },
      "execution_count": 8,
      "outputs": [
        {
          "output_type": "execute_result",
          "data": {
            "text/plain": [
              "0.676884210526316"
            ]
          },
          "metadata": {},
          "execution_count": 8
        }
      ]
    },
    {
      "cell_type": "markdown",
      "source": [
        "###Calls:"
      ],
      "metadata": {
        "id": "yIGG3SlcR6FX"
      }
    },
    {
      "cell_type": "code",
      "source": [
        "pd.DataFrame({ \"Expiry\":list1, \"Implied Volatility\":list2 }).plot(x=\"Expiry\", y=\"Implied Volatility\");"
      ],
      "metadata": {
        "colab": {
          "base_uri": "https://localhost:8080/",
          "height": 279
        },
        "id": "3WzLIu9CAN4A",
        "outputId": "259fdb45-c5a8-4b45-b039-eb3d0ad8b92b"
      },
      "execution_count": 15,
      "outputs": [
        {
          "output_type": "display_data",
          "data": {
            "text/plain": [
              "<Figure size 432x288 with 1 Axes>"
            ],
            "image/png": "[encoded data removed]"
          },
          "metadata": {
            "needs_background": "light"
          }
        }
      ]
    },
    {
      "cell_type": "markdown",
      "source": [
        "**Observations:**\n",
        "\n",
        "\n",
        "Can see \"half cone shape**\" forming. As time to maturity increases (ie expiration is further away from today's date) we see implied volatility converging to a lower value.\n",
        "\n",
        "\n",
        "We can assume this lower value to be the long-term mean volatility, although periodicity can be a separate subject of discussion. \n",
        "\n",
        "On a separate study (using TradingView***), I'm using EWMA to estimate the historical volatility:\n",
        "\n",
        "* on TSLA daily, applying 252 period lookback\n",
        "* annualization of HV using t=252\n",
        "* results: EWMA HV is .6912, with median .6479; somewhat aligns with current IV and expected mean that this plot is converging to\n",
        "\n",
        "<br>\n",
        "** It's a half-cone-shape because if IV is currently extremely low, then we can expect it converging upwards to, say, .6479. Put together these two scenarios, then you get a cone pointing to the right side of the x-axis.\n",
        "<br>\n",
        "<br>\n",
        "*** TradingView study: Refer to the marked red circle:\n",
        "\n",
        "\n",
        "\n",
        "\n",
        " \n"
      ],
      "metadata": {
        "id": "XVaMCQu2HJrR"
      }
    },
    {
      "cell_type": "markdown",
      "source": [
        "![link text](https://s3.tradingview.com/snapshots/e/ejzKZ85O.png)"
      ],
      "metadata": {
        "id": "jtK7Z4f5MCil"
      }
    },
    {
      "cell_type": "markdown",
      "source": [
        "Let's look at Puts, it should have a similar shape. "
      ],
      "metadata": {
        "id": "pSktomw5Q3A-"
      }
    },
    {
      "cell_type": "code",
      "source": [
        "list1, list2 = get_iv(\"puts\")"
      ],
      "metadata": {
        "colab": {
          "base_uri": "https://localhost:8080/"
        },
        "id": "vs6ZDzLMQ5R3",
        "outputId": "a1bd0433-a822-48fa-f9d1-49051d97e64a"
      },
      "execution_count": 16,
      "outputs": [
        {
          "output_type": "stream",
          "name": "stdout",
          "text": [
            "March 3, 2023; ATM Call; iv=0.8955\n",
            "March 10, 2023; ATM Call; iv=0.714\n",
            "March 17, 2023; ATM Call; iv=0.6696\n",
            "March 24, 2023; ATM Call; iv=0.6483\n",
            "March 31, 2023; ATM Call; iv=0.6282\n",
            "April 6, 2023; ATM Call; iv=0.6405\n",
            "April 21, 2023; ATM Call; iv=0.6477\n",
            "May 19, 2023; ATM Call; iv=0.615\n",
            "June 16, 2023; ATM Call; iv=0.5844\n",
            "July 21, 2023; ATM Call; iv=0.5731\n",
            "September 15, 2023; ATM Call; iv=0.5482\n",
            "November 17, 2023; ATM Call; iv=0.5466\n",
            "December 15, 2023; ATM Call; iv=0.5257\n",
            "January 19, 2024; ATM Call; iv=0.5183\n",
            "March 15, 2024; ATM Call; iv=0.5136\n",
            "June 21, 2024; ATM Call; iv=0.5021\n",
            "September 20, 2024; ATM Call; iv=0.495\n",
            "January 17, 2025; ATM Call; iv=0.482\n",
            "June 20, 2025; ATM Call; iv=0.4673\n"
          ]
        }
      ]
    },
    {
      "cell_type": "markdown",
      "source": [
        "###Puts:"
      ],
      "metadata": {
        "id": "Dyc7rsZnR0Yl"
      }
    },
    {
      "cell_type": "code",
      "source": [
        "pd.DataFrame({ \"Expiry\":list1, \"Implied Volatility\":list2 }).plot(x=\"Expiry\", y=\"Implied Volatility\");"
      ],
      "metadata": {
        "colab": {
          "base_uri": "https://localhost:8080/",
          "height": 279
        },
        "id": "UKoVrkQeQ_VB",
        "outputId": "69f3b623-e052-46c7-d6ff-1678ed899cc7"
      },
      "execution_count": 17,
      "outputs": [
        {
          "output_type": "display_data",
          "data": {
            "text/plain": [
              "<Figure size 432x288 with 1 Axes>"
            ],
            "image/png": "[encoded data removed]"
          },
          "metadata": {
            "needs_background": "light"
          }
        }
      ]
    },
    {
      "cell_type": "code",
      "source": [
        "np.average(np.array(list2))"
      ],
      "metadata": {
        "colab": {
          "base_uri": "https://localhost:8080/"
        },
        "id": "XGYlOTm-RK5Z",
        "outputId": "e69010d0-153e-4604-998c-6ec6199b0dc0"
      },
      "execution_count": 18,
      "outputs": [
        {
          "output_type": "execute_result",
          "data": {
            "text/plain": [
              "0.5902684210526314"
            ]
          },
          "metadata": {},
          "execution_count": 18
        }
      ]
    }
  ]
}