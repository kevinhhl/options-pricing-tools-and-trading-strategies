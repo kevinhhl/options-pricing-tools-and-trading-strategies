{
  "nbformat": 4,
  "nbformat_minor": 0,
  "metadata": {
    "colab": {
      "provenance": [],
      "toc_visible": true,
      "authorship_tag": "ABX9TyMu+QfvpF562l+rxIwFnDOy",
      "include_colab_link": true
    },
    "kernelspec": {
      "name": "python3",
      "display_name": "Python 3"
    },
    "language_info": {
      "name": "python"
    }
  },
  "cells": [
    {
      "cell_type": "markdown",
      "metadata": {
        "id": "view-in-github",
        "colab_type": "text"
      },
      "source": [
        "<a href=\"https://colab.research.google.com/github/kevinhhl/options-pricing-tools-and-trading-strategies/blob/main/Black_Scholes_Merton_Model_Part2_Position_Analysis.ipynb\" target=\"_parent\"><img src=\"https://colab.research.google.com/assets/colab-badge.svg\" alt=\"Open In Colab\"/></a>"
      ]
    },
    {
      "cell_type": "code",
      "source": [
        "import math\n",
        "import time\n",
        "import pandas as pd\n",
        "from datetime import date\n",
        "from scipy.stats import norm\n",
        "!pip install yahoo_fin\n",
        "from yahoo_fin import options\n",
        "!pip install yfinance\n",
        "import yfinance as yf"
      ],
      "metadata": {
        "id": "z1k7xS3DV7kV"
      },
      "execution_count": null,
      "outputs": []
    },
    {
      "cell_type": "markdown",
      "source": [
        "# Overview\n",
        "\n",
        "Back in [Part 1](https://github.com/kevinhhl/options-pricing-tools-and-trading-strategies/blob/main/Black_Scholes_Merton_Model_Part1_Screening_YF_for_theoretical_edges.ipynb), we implemented the Black Scholes Model (BSM) and applied it to data provided by Yahoo. We had a summary table to list out the theoretical values and Greeks for each of the individual options in the options chain.\n",
        "\n",
        "When constructing a portfolio of options, we need to make notes of those options that we want to include in our positions. We need to store the option data in hierarchical forms.\n",
        "\n"
      ],
      "metadata": {
        "id": "O_swuIwU_ozM"
      }
    },
    {
      "cell_type": "markdown",
      "source": [
        "# Implementation\n",
        "\n",
        "Here is the blueprint for three different levels of datatypes that will be implementing to store options data. Programming it this way will allow us to develop further tools to perform risk analysis for options portfolios from both top-down and bottom-up perspectives.\n",
        "\n",
        "<br>\n",
        "\n",
        "| Hierarchy & name of datatype | Description |\n",
        "|--|--|\n",
        "| Level 1: Contract| A datatype to store data points attributed to an individual option (ie. maturity date, strike price, call/put).  |\n",
        "| Level 2: Leg | A data structure that stores (1) a single Contract (2) an instance of a BSM, and (3) the outputs from BSM|\n",
        "| Level 3: Position | A collection of multiple Legs |\n",
        "\n",
        "\n",
        "\n"
      ],
      "metadata": {
        "id": "5udN_X6G6D6U"
      }
    },
    {
      "cell_type": "markdown",
      "source": [
        "#### class BSM():"
      ],
      "metadata": {
        "id": "zMsijvbiPjv9"
      }
    },
    {
      "cell_type": "code",
      "source": [
        "class BSM:\n",
        "  \n",
        "  def __init__(self, x, s,t,r,sigma):\n",
        "    self.d1, self.d2 = None, None\n",
        "    self.tv_call, self.delta_call , self.gamma_call, self.vega_call, self.theta_call, self.rho_call = None, None, None, None, None, None\n",
        "    self.tv_put, self.delta_put, self.gamma_put, self.vega_put, self.theta_put, self.rho_put = None, None, None, None, None, None\n",
        "\n",
        "    self.x = x\n",
        "    self.s = s\n",
        "    self.t = t\n",
        "    self.r = r\n",
        "    self.sigma = sigma\n",
        "    self.calc()\n",
        "\n",
        "  def calc(self):\n",
        "    ''' Calculates all the theoretical and Greeks values for call and put. \n",
        "        Need to call calc() whenever new input is provided. \n",
        "    '''\n",
        "    _a = math.log(self.s/ self.x)\n",
        "    _b = (self.r+self.sigma**2/2)*self.t\n",
        "    self.d1 = (_a+_b)/self.sigma*math.sqrt(self.t)\n",
        "    self.d2 = self.d1 - self.sigma * math.sqrt(self.t)\n",
        "    \n",
        "    # Call: \n",
        "    self.tv_call    = self.s * norm.cdf(self.d1) - self.x*math.exp(-self.r*self.t)*norm.cdf(self.d2)\n",
        "    self.delta_call = norm.cdf(self.d1)\n",
        "    self.gamma_call = norm.pdf(self.d1)/(self.s*self.sigma*math.sqrt(self.t))\n",
        "    self.vega_call  = 0.01*(self.s*norm.pdf(self.d1)*math.sqrt(self.t))\n",
        "    self.theta_call = 0.01*(-(self.s*norm.pdf(self.d1)*self.sigma)/(2*math.sqrt(self.t)) - self.r*self.x*math.exp(-self.r*self.t)*norm.cdf(self.d2))\n",
        "    self.rho_call   = 0.01*(self.x*self.t*math.exp(-self.r*self.t)*norm.cdf(self.d2))\n",
        "    \n",
        "    # Put: \n",
        "    self.tv_put    = self.x * math.exp(-self.r*self.t)-self.s+self.tv_call\n",
        "    self.delta_put = -norm.cdf(-self.d1)\n",
        "    self.gamma_put = norm.pdf(self.d1)/(self.s*self.sigma*math.sqrt(self.t))\n",
        "    self.vega_put  = 0.01*(self.s*norm.pdf(self.d1)*math.sqrt(self.t))\n",
        "    self.theta_put = 0.01*(-(self.s*norm.pdf(self.d1)*self.sigma)/(2*math.sqrt(self.t)) + self.r*self.x*math.exp(-self.r*self.t)*norm.cdf(-self.d2))\n",
        "    self.rho_put   = 0.01*(-self.x*self.t*math.exp(-self.r*self.t)*norm.cdf(-self.d2))\n",
        "\n"
      ],
      "metadata": {
        "id": "H-OZtfUNWLav"
      },
      "execution_count": 27,
      "outputs": []
    },
    {
      "cell_type": "markdown",
      "source": [
        "#### class contract():"
      ],
      "metadata": {
        "id": "s3Y1VHz1Po-j"
      }
    },
    {
      "cell_type": "code",
      "source": [
        "class contract:\n",
        "\n",
        "  def __init__(self, expiry_date, strike, contracttype, quoted_price):\n",
        "    self.multiple = 100\n",
        "    self.strike = strike\n",
        "    self.contracttype=contracttype\n",
        "    self.expiry_date = expiry_date\n",
        "    self.price = quoted_price\n",
        "\n",
        "  def __str__(self):\n",
        "    return \"{}_{}_{} @{}\".format(self.expiry_date, self.strike, self.contracttype, self.price)"
      ],
      "metadata": {
        "id": "zxOXJfJKdcNK"
      },
      "execution_count": 28,
      "outputs": []
    },
    {
      "cell_type": "markdown",
      "source": [
        "#### class leg():"
      ],
      "metadata": {
        "id": "KUZkxbXdRIyO"
      }
    },
    {
      "cell_type": "code",
      "source": [
        "class leg:\n",
        "\n",
        "  def __init__(self, side, contract, size, date_today, s,r,sigma):\n",
        "    self.size=size\n",
        "    leg.size = size\n",
        "    self.side = side\n",
        "    t = (contract.expiry_date-date_today).days/365\n",
        "    self.contract = contract\n",
        "    self.model = BSM(contract.strike, s,t,r,sigma)\n",
        "\n",
        "    self.delta = None\n",
        "    self.rho = None\n",
        "    self.vega = None\n",
        "    self.theta = None   \n",
        "    self.gamma = None\n",
        "    self.edge = 0\n",
        "    self.premium = 0\n",
        "\n",
        "    # int _coefficient, has three purposes:\n",
        "    #   (1) +/-ve Delta for long call/put, but it's reversed from seller's perspective  \n",
        "    #   (2) If buyer of contract:   +ve vega, -ve theta, +ve gamma\n",
        "    #   (3) If seller of contract:  -ve vega, +ve theta, -ve gamma\n",
        "    _coefficient = None\n",
        "    if self.side == \"long\":\n",
        "      _coefficient = 1\n",
        "    elif self.side == \"short\":\n",
        "      _coefficient = -1\n",
        "    \n",
        "    if contract.contracttype==\"call\":\n",
        "      if self.side == \"long\":\n",
        "        self.edge = (self.model.tv_call-self.contract.price) * size \n",
        "      elif self.side == \"short\":\n",
        "        self.edge = (self.contract.price-self.model.tv_call) * size \n",
        "      self.delta = self.model.delta_call * size  * _coefficient\n",
        "      self.rho = self.model.rho_call * size      * _coefficient\n",
        "      self.vega = self.model.vega_call * size    * _coefficient\n",
        "      self.gamma = self.model.gamma_call * size  * _coefficient\n",
        "      self.theta = self.model.theta_call * size  * _coefficient\n",
        "    \n",
        "    elif contract.contracttype==\"put\":\n",
        "      if self.side == \"long\":\n",
        "        self.edge = (self.model.tv_put-self.contract.price) * size \n",
        "      elif self.side == \"short\":\n",
        "        self.edge = (self.contract.price-self.model.tv_put) * size \n",
        "      self.delta = self.model.delta_put * size   * _coefficient\n",
        "      self.rho = self.model.rho_put * size       * _coefficient\n",
        "      self.vega = self.model.vega_put * size     * _coefficient\n",
        "      self.gamma = self.model.gamma_put * size   * _coefficient\n",
        "      self.theta = self.model.theta_put * size   * _coefficient\n",
        "    \n",
        "    self.premium = contract.price * size * -_coefficient\n",
        "\n",
        "  def __str__(self):\n",
        "    n_round= 4 \n",
        "    return \"{} [x{}]: Δ={},𝚪={},Θ={},V={},⍴={}\".format(str(self.contract),self.size, \\\n",
        "      self.delta.round(n_round),self.gamma.round(n_round),self.theta.round(n_round),self.vega.round(n_round),self.rho.round(n_round))\n"
      ],
      "metadata": {
        "id": "OmvAd0IkdHKf"
      },
      "execution_count": 29,
      "outputs": []
    },
    {
      "cell_type": "markdown",
      "source": [
        "### class position():"
      ],
      "metadata": {
        "id": "wkHhyLMpRL8A"
      }
    },
    {
      "cell_type": "code",
      "source": [
        "class position:\n",
        "\n",
        "  def __init__(self):\n",
        "    self.list_leg = []\n",
        "    self.total_delta = 0\n",
        "    self.total_gamma = 0\n",
        "    self.total_vega = 0\n",
        "    self.total_theta = 0\n",
        "    self.total_rho = 0\n",
        "    self.total_premium = 0\n",
        "    self.total_th_edge = 0\n",
        "\n",
        "  def get_summary(self, rounding=4) -> dict:\n",
        "    ''' Returns dict of {string:float}\n",
        "    '''\n",
        "    return {\"Total delta\" : round(self.total_delta,rounding),\n",
        "            \"Total gamma\" : round(self.total_gamma,rounding),\n",
        "            \"Total vega\"  : round(self.total_vega,rounding),\n",
        "            \"Total theta\" : round(self.total_theta,rounding),\n",
        "            \"Total rho\"   :round(self.total_rho,rounding),\n",
        "            \"Premium (paid)/received\" : round(self.total_premium,rounding),\n",
        "            \"Th. Edge\"    : round(self.total_th_edge,rounding),\n",
        "            }\n",
        "  \n",
        "  def add_leg(self, leg):\n",
        "    ''' @param leg\n",
        "    '''\n",
        "    size = leg.size\n",
        "    self.total_premium += leg.premium\n",
        "    self.total_th_edge += leg.edge\n",
        "    self.list_leg.append(leg)\n",
        "    \n",
        "    self.total_delta += leg.delta\n",
        "    self.total_gamma += leg.gamma\n",
        "    self.total_vega += leg.vega\n",
        "    self.total_theta += leg.theta\n",
        "    self.total_rho += leg.rho\n"
      ],
      "metadata": {
        "id": "Ls5kJ-UieSIC"
      },
      "execution_count": 30,
      "outputs": []
    },
    {
      "cell_type": "markdown",
      "source": [
        "#Application:\n",
        "😎 emoji = Requires user's attention.  \n",
        "\n",
        "Setting up our model:\n"
      ],
      "metadata": {
        "id": "fPVJRQo5Bw7G"
      }
    },
    {
      "cell_type": "code",
      "source": [
        "# 😎 Manual inputs:\n",
        "symbol                   = \"TSLA\" \n",
        "sigma                    = 0.70 \n",
        "riskfree_rate            = math.e**(.0395)-1\n",
        "date_today               = date(2023,2,22) \n",
        "date_expire              = date(2023,3,17) "
      ],
      "metadata": {
        "id": "CAnrVfErv0GB"
      },
      "execution_count": 31,
      "outputs": []
    },
    {
      "cell_type": "code",
      "source": [
        "ttm = (date_expire-date_today).days/365\n",
        "\n",
        "# Confirming that the expiration date is valid.\n",
        "exp_dates = options.get_expiration_dates(symbol)\n",
        "date_expire_str = date_expire.strftime(\"%B %d, %Y\") \n",
        "assert date_expire_str in exp_dates \n",
        "\n",
        "# Obtaining the recent close priceticker_yahoo = yf.Ticker(symbol)\n",
        "ticker_yahoo = yf.Ticker(symbol)\n",
        "data = ticker_yahoo.history()\n",
        "crnt_price = data['Close'].iloc[-1]\n",
        "crnt_price"
      ],
      "metadata": {
        "id": "Uhtg_8lb4ycq",
        "colab": {
          "base_uri": "https://localhost:8080/"
        },
        "outputId": "9edb6801-074d-4474-f341-da40394a0991"
      },
      "execution_count": 32,
      "outputs": [
        {
          "output_type": "execute_result",
          "data": {
            "text/plain": [
              "197.3699951171875"
            ]
          },
          "metadata": {},
          "execution_count": 32
        }
      ]
    },
    {
      "cell_type": "markdown",
      "source": [
        "---\n",
        "##Option Chain Analysis:"
      ],
      "metadata": {
        "id": "cfl4qwhxbOER"
      }
    },
    {
      "cell_type": "code",
      "source": [
        "chain_call = options.get_options_chain(symbol)[\"calls\"]\n",
        "chain_put = options.get_options_chain(symbol)[\"puts\"]"
      ],
      "metadata": {
        "id": "I-w6DAol4a3Q"
      },
      "execution_count": 33,
      "outputs": []
    },
    {
      "cell_type": "code",
      "source": [
        "def populate_dict(yf_chain, contracttype):\n",
        "  ''' @param Object yf_chain : from options.get_options_chain(symbol, date_expire_str)[\"calls\" or \"puts\"]\n",
        "      @param string contracttype : either \"call\" or \"put\n",
        "      Returns a dict of {float strike price : contract object}\n",
        "  '''\n",
        "  out = {}\n",
        "  for i in range(len(yf_chain)):\n",
        "    x = yf_chain[\"Strike\"][i]\n",
        "    out[x] = contract(date_expire, x, contracttype, yf_chain[\"Last Price\"][i])\n",
        "  return out\n",
        "\n",
        "calls = populate_dict(chain_call, \"call\")\n",
        "puts = populate_dict(chain_put, \"put\")\n"
      ],
      "metadata": {
        "id": "Tyr65k6owsGT"
      },
      "execution_count": 37,
      "outputs": []
    },
    {
      "cell_type": "markdown",
      "source": [
        "## Position Analysis"
      ],
      "metadata": {
        "id": "dmmjvu63hF8s"
      }
    },
    {
      "cell_type": "markdown",
      "source": [
        "**Long straddle:**"
      ],
      "metadata": {
        "id": "5CPrMYiQQDJ4"
      }
    },
    {
      "cell_type": "code",
      "source": [
        "pos = position()\n",
        "leg1 = leg(side=\"long\", contract=calls[210], size=1, date_today=date_today, s=crnt_price, r=riskfree_rate, sigma=sigma)\n",
        "leg2 = leg(side=\"long\", contract=puts[210], size=1, date_today=date_today, s=crnt_price, r=riskfree_rate, sigma=sigma)\n",
        "pos.add_leg(leg1)\n",
        "pos.add_leg(leg2)\n",
        "for e in pos.list_leg:\n",
        "  print(e)\n",
        "pos.get_summary()"
      ],
      "metadata": {
        "id": "klJssmtNhePh",
        "colab": {
          "base_uri": "https://localhost:8080/"
        },
        "outputId": "2a22adbd-f251-4178-e114-115f02c6eec8"
      },
      "execution_count": 38,
      "outputs": [
        {
          "output_type": "stream",
          "name": "stdout",
          "text": [
            "2023-03-17_210.0_call @1.89 [x1]: Δ=0.4937,𝚪=0.0115,Θ=-1.1335,V=0.1976,⍴=0.056\n",
            "2023-03-17_210.0_put @14.46 [x1]: Δ=-0.5063,𝚪=0.0115,Θ=-1.0491,V=0.1976,⍴=-0.076\n"
          ]
        },
        {
          "output_type": "execute_result",
          "data": {
            "text/plain": [
              "{'Total delta': -0.0126,\n",
              " 'Total gamma': 0.023,\n",
              " 'Total vega': 0.3953,\n",
              " 'Total theta': -2.1826,\n",
              " 'Total rho': -0.02,\n",
              " 'Premium (paid)/received': -16.35,\n",
              " 'Th. Edge': 12.9758}"
            ]
          },
          "metadata": {},
          "execution_count": 38
        }
      ]
    },
    {
      "cell_type": "markdown",
      "source": [
        "**Short straddle:**"
      ],
      "metadata": {
        "id": "tIRPeGGoQIFp"
      }
    },
    {
      "cell_type": "code",
      "source": [
        "pos = position()\n",
        "leg1 = leg(side=\"short\", contract=calls[210], size=1, date_today=date_today, s=crnt_price, r=riskfree_rate, sigma=sigma)\n",
        "leg2 = leg(side=\"short\", contract=puts[210], size=1, date_today=date_today, s=crnt_price, r=riskfree_rate, sigma=sigma)\n",
        "pos.add_leg(leg1)\n",
        "pos.add_leg(leg2)\n",
        "for e in pos.list_leg:\n",
        "  print(e)\n",
        "pos.get_summary()"
      ],
      "metadata": {
        "colab": {
          "base_uri": "https://localhost:8080/"
        },
        "id": "A70qGo9jTzbM",
        "outputId": "3ff283a9-38e4-4e9f-b60b-5eecbcee602b"
      },
      "execution_count": 39,
      "outputs": [
        {
          "output_type": "stream",
          "name": "stdout",
          "text": [
            "2023-03-17_210.0_call @1.89 [x1]: Δ=-0.4937,𝚪=-0.0115,Θ=1.1335,V=-0.1976,⍴=-0.056\n",
            "2023-03-17_210.0_put @14.46 [x1]: Δ=0.5063,𝚪=-0.0115,Θ=1.0491,V=-0.1976,⍴=0.076\n"
          ]
        },
        {
          "output_type": "execute_result",
          "data": {
            "text/plain": [
              "{'Total delta': 0.0126,\n",
              " 'Total gamma': -0.023,\n",
              " 'Total vega': -0.3953,\n",
              " 'Total theta': 2.1826,\n",
              " 'Total rho': 0.02,\n",
              " 'Premium (paid)/received': 16.35,\n",
              " 'Th. Edge': -12.9758}"
            ]
          },
          "metadata": {},
          "execution_count": 39
        }
      ]
    },
    {
      "cell_type": "markdown",
      "source": [
        "### Let's validate the results.\n",
        "\n",
        "In theory, +ve and -ve signs should be: \n",
        "\n",
        "*Summary of straddle spreads [1]:*\n",
        " \n",
        "|Spread|Delta|Gamma|Theta|Vega|Downside|Upside|\n",
        "|-|-|-|-|-|-|-|\n",
        "|Long straddle|0|+ve|-ve|+ve|Unlimited reward|Unlimited reward|\n",
        "|Short straddle|0|-ve|+ve|-ve|Unlimited risk|Unlimited risk|\n",
        "\n",
        "In a perfect world, deltas for ATM calls and puts are exactly 0.5 and -0.5, respectively; in theory, we will be delta neutral if we buy/sell straddles ATM. In this case, we are buying and selling straddles that are near-the-money. As expected, net Delta should be close to zero.\n",
        "\n",
        "<br>\n",
        "\n",
        "---\n",
        "*References:*\n",
        "\n",
        "[1] Natenberg, Sheldon. <i>Chapter 11, Option Volatility and Pricing, Second Edition</i>. McGraw-Hill Edu., 2015."
      ],
      "metadata": {
        "id": "auT3PYTWkdtC"
      }
    }
  ]
}